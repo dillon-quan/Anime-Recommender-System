{
 "cells": [
  {
   "cell_type": "code",
   "execution_count": 2,
   "metadata": {
    "collapsed": true
   },
   "outputs": [],
   "source": [
    "import pandas as pd\n",
    "import numpy as np\n",
    "import matplotlib.pyplot as plt\n",
    "import seaborn as sns\n",
    "from bokeh.io import show, output_notebook, output_file\n",
    "from bokeh.plotting import figure"
   ]
  },
  {
   "cell_type": "code",
   "execution_count": 3,
   "metadata": {},
   "outputs": [
    {
     "data": {
      "text/html": [
       "\n",
       "    <div class=\"bk-root\">\n",
       "        <a href=\"https://bokeh.pydata.org\" target=\"_blank\" class=\"bk-logo bk-logo-small bk-logo-notebook\"></a>\n",
       "        <span id=\"240bf86c-f7d6-4b39-93cf-7b728ad634a1\">Loading BokehJS ...</span>\n",
       "    </div>"
      ]
     },
     "metadata": {},
     "output_type": "display_data"
    },
    {
     "data": {
      "application/javascript": [
       "\n",
       "(function(root) {\n",
       "  function now() {\n",
       "    return new Date();\n",
       "  }\n",
       "\n",
       "  var force = true;\n",
       "\n",
       "  if (typeof (root._bokeh_onload_callbacks) === \"undefined\" || force === true) {\n",
       "    root._bokeh_onload_callbacks = [];\n",
       "    root._bokeh_is_loading = undefined;\n",
       "  }\n",
       "\n",
       "  var JS_MIME_TYPE = 'application/javascript';\n",
       "  var HTML_MIME_TYPE = 'text/html';\n",
       "  var EXEC_MIME_TYPE = 'application/vnd.bokehjs_exec.v0+json';\n",
       "  var CLASS_NAME = 'output_bokeh rendered_html';\n",
       "\n",
       "  /**\n",
       "   * Render data to the DOM node\n",
       "   */\n",
       "  function render(props, node) {\n",
       "    var script = document.createElement(\"script\");\n",
       "    node.appendChild(script);\n",
       "  }\n",
       "\n",
       "  /**\n",
       "   * Handle when an output is cleared or removed\n",
       "   */\n",
       "  function handleClearOutput(event, handle) {\n",
       "    var cell = handle.cell;\n",
       "\n",
       "    var id = cell.output_area._bokeh_element_id;\n",
       "    var server_id = cell.output_area._bokeh_server_id;\n",
       "    // Clean up Bokeh references\n",
       "    if (id !== undefined) {\n",
       "      Bokeh.index[id].model.document.clear();\n",
       "      delete Bokeh.index[id];\n",
       "    }\n",
       "\n",
       "    if (server_id !== undefined) {\n",
       "      // Clean up Bokeh references\n",
       "      var cmd = \"from bokeh.io.state import curstate; print(curstate().uuid_to_server['\" + server_id + \"'].get_sessions()[0].document.roots[0]._id)\";\n",
       "      cell.notebook.kernel.execute(cmd, {\n",
       "        iopub: {\n",
       "          output: function(msg) {\n",
       "            var element_id = msg.content.text.trim();\n",
       "            Bokeh.index[element_id].model.document.clear();\n",
       "            delete Bokeh.index[element_id];\n",
       "          }\n",
       "        }\n",
       "      });\n",
       "      // Destroy server and session\n",
       "      var cmd = \"import bokeh.io.notebook as ion; ion.destroy_server('\" + server_id + \"')\";\n",
       "      cell.notebook.kernel.execute(cmd);\n",
       "    }\n",
       "  }\n",
       "\n",
       "  /**\n",
       "   * Handle when a new output is added\n",
       "   */\n",
       "  function handleAddOutput(event, handle) {\n",
       "    var output_area = handle.output_area;\n",
       "    var output = handle.output;\n",
       "\n",
       "    // limit handleAddOutput to display_data with EXEC_MIME_TYPE content only\n",
       "    if ((output.output_type != \"display_data\") || (!output.data.hasOwnProperty(EXEC_MIME_TYPE))) {\n",
       "      return\n",
       "    }\n",
       "\n",
       "    var toinsert = output_area.element.find(\".\" + CLASS_NAME.split(' ')[0]);\n",
       "\n",
       "    if (output.metadata[EXEC_MIME_TYPE][\"id\"] !== undefined) {\n",
       "      toinsert[toinsert.length - 1].firstChild.textContent = output.data[JS_MIME_TYPE];\n",
       "      // store reference to embed id on output_area\n",
       "      output_area._bokeh_element_id = output.metadata[EXEC_MIME_TYPE][\"id\"];\n",
       "    }\n",
       "    if (output.metadata[EXEC_MIME_TYPE][\"server_id\"] !== undefined) {\n",
       "      var bk_div = document.createElement(\"div\");\n",
       "      bk_div.innerHTML = output.data[HTML_MIME_TYPE];\n",
       "      var script_attrs = bk_div.children[0].attributes;\n",
       "      for (var i = 0; i < script_attrs.length; i++) {\n",
       "        toinsert[toinsert.length - 1].firstChild.setAttribute(script_attrs[i].name, script_attrs[i].value);\n",
       "      }\n",
       "      // store reference to server id on output_area\n",
       "      output_area._bokeh_server_id = output.metadata[EXEC_MIME_TYPE][\"server_id\"];\n",
       "    }\n",
       "  }\n",
       "\n",
       "  function register_renderer(events, OutputArea) {\n",
       "\n",
       "    function append_mime(data, metadata, element) {\n",
       "      // create a DOM node to render to\n",
       "      var toinsert = this.create_output_subarea(\n",
       "        metadata,\n",
       "        CLASS_NAME,\n",
       "        EXEC_MIME_TYPE\n",
       "      );\n",
       "      this.keyboard_manager.register_events(toinsert);\n",
       "      // Render to node\n",
       "      var props = {data: data, metadata: metadata[EXEC_MIME_TYPE]};\n",
       "      render(props, toinsert[toinsert.length - 1]);\n",
       "      element.append(toinsert);\n",
       "      return toinsert\n",
       "    }\n",
       "\n",
       "    /* Handle when an output is cleared or removed */\n",
       "    events.on('clear_output.CodeCell', handleClearOutput);\n",
       "    events.on('delete.Cell', handleClearOutput);\n",
       "\n",
       "    /* Handle when a new output is added */\n",
       "    events.on('output_added.OutputArea', handleAddOutput);\n",
       "\n",
       "    /**\n",
       "     * Register the mime type and append_mime function with output_area\n",
       "     */\n",
       "    OutputArea.prototype.register_mime_type(EXEC_MIME_TYPE, append_mime, {\n",
       "      /* Is output safe? */\n",
       "      safe: true,\n",
       "      /* Index of renderer in `output_area.display_order` */\n",
       "      index: 0\n",
       "    });\n",
       "  }\n",
       "\n",
       "  // register the mime type if in Jupyter Notebook environment and previously unregistered\n",
       "  if (root.Jupyter !== undefined) {\n",
       "    var events = require('base/js/events');\n",
       "    var OutputArea = require('notebook/js/outputarea').OutputArea;\n",
       "\n",
       "    if (OutputArea.prototype.mime_types().indexOf(EXEC_MIME_TYPE) == -1) {\n",
       "      register_renderer(events, OutputArea);\n",
       "    }\n",
       "  }\n",
       "\n",
       "  \n",
       "  if (typeof (root._bokeh_timeout) === \"undefined\" || force === true) {\n",
       "    root._bokeh_timeout = Date.now() + 5000;\n",
       "    root._bokeh_failed_load = false;\n",
       "  }\n",
       "\n",
       "  var NB_LOAD_WARNING = {'data': {'text/html':\n",
       "     \"<div style='background-color: #fdd'>\\n\"+\n",
       "     \"<p>\\n\"+\n",
       "     \"BokehJS does not appear to have successfully loaded. If loading BokehJS from CDN, this \\n\"+\n",
       "     \"may be due to a slow or bad network connection. Possible fixes:\\n\"+\n",
       "     \"</p>\\n\"+\n",
       "     \"<ul>\\n\"+\n",
       "     \"<li>re-rerun `output_notebook()` to attempt to load from CDN again, or</li>\\n\"+\n",
       "     \"<li>use INLINE resources instead, as so:</li>\\n\"+\n",
       "     \"</ul>\\n\"+\n",
       "     \"<code>\\n\"+\n",
       "     \"from bokeh.resources import INLINE\\n\"+\n",
       "     \"output_notebook(resources=INLINE)\\n\"+\n",
       "     \"</code>\\n\"+\n",
       "     \"</div>\"}};\n",
       "\n",
       "  function display_loaded() {\n",
       "    var el = document.getElementById(\"240bf86c-f7d6-4b39-93cf-7b728ad634a1\");\n",
       "    if (el != null) {\n",
       "      el.textContent = \"BokehJS is loading...\";\n",
       "    }\n",
       "    if (root.Bokeh !== undefined) {\n",
       "      if (el != null) {\n",
       "        el.textContent = \"BokehJS \" + root.Bokeh.version + \" successfully loaded.\";\n",
       "      }\n",
       "    } else if (Date.now() < root._bokeh_timeout) {\n",
       "      setTimeout(display_loaded, 100)\n",
       "    }\n",
       "  }\n",
       "\n",
       "\n",
       "  function run_callbacks() {\n",
       "    try {\n",
       "      root._bokeh_onload_callbacks.forEach(function(callback) { callback() });\n",
       "    }\n",
       "    finally {\n",
       "      delete root._bokeh_onload_callbacks\n",
       "    }\n",
       "    console.info(\"Bokeh: all callbacks have finished\");\n",
       "  }\n",
       "\n",
       "  function load_libs(js_urls, callback) {\n",
       "    root._bokeh_onload_callbacks.push(callback);\n",
       "    if (root._bokeh_is_loading > 0) {\n",
       "      console.log(\"Bokeh: BokehJS is being loaded, scheduling callback at\", now());\n",
       "      return null;\n",
       "    }\n",
       "    if (js_urls == null || js_urls.length === 0) {\n",
       "      run_callbacks();\n",
       "      return null;\n",
       "    }\n",
       "    console.log(\"Bokeh: BokehJS not loaded, scheduling load and callback at\", now());\n",
       "    root._bokeh_is_loading = js_urls.length;\n",
       "    for (var i = 0; i < js_urls.length; i++) {\n",
       "      var url = js_urls[i];\n",
       "      var s = document.createElement('script');\n",
       "      s.src = url;\n",
       "      s.async = false;\n",
       "      s.onreadystatechange = s.onload = function() {\n",
       "        root._bokeh_is_loading--;\n",
       "        if (root._bokeh_is_loading === 0) {\n",
       "          console.log(\"Bokeh: all BokehJS libraries loaded\");\n",
       "          run_callbacks()\n",
       "        }\n",
       "      };\n",
       "      s.onerror = function() {\n",
       "        console.warn(\"failed to load library \" + url);\n",
       "      };\n",
       "      console.log(\"Bokeh: injecting script tag for BokehJS library: \", url);\n",
       "      document.getElementsByTagName(\"head\")[0].appendChild(s);\n",
       "    }\n",
       "  };var element = document.getElementById(\"240bf86c-f7d6-4b39-93cf-7b728ad634a1\");\n",
       "  if (element == null) {\n",
       "    console.log(\"Bokeh: ERROR: autoload.js configured with elementid '240bf86c-f7d6-4b39-93cf-7b728ad634a1' but no matching script tag was found. \")\n",
       "    return false;\n",
       "  }\n",
       "\n",
       "  var js_urls = [\"https://cdn.pydata.org/bokeh/release/bokeh-0.12.15.min.js\", \"https://cdn.pydata.org/bokeh/release/bokeh-widgets-0.12.15.min.js\", \"https://cdn.pydata.org/bokeh/release/bokeh-tables-0.12.15.min.js\", \"https://cdn.pydata.org/bokeh/release/bokeh-gl-0.12.15.min.js\"];\n",
       "\n",
       "  var inline_js = [\n",
       "    function(Bokeh) {\n",
       "      Bokeh.set_log_level(\"info\");\n",
       "    },\n",
       "    \n",
       "    function(Bokeh) {\n",
       "      \n",
       "    },\n",
       "    function(Bokeh) {\n",
       "      console.log(\"Bokeh: injecting CSS: https://cdn.pydata.org/bokeh/release/bokeh-0.12.15.min.css\");\n",
       "      Bokeh.embed.inject_css(\"https://cdn.pydata.org/bokeh/release/bokeh-0.12.15.min.css\");\n",
       "      console.log(\"Bokeh: injecting CSS: https://cdn.pydata.org/bokeh/release/bokeh-widgets-0.12.15.min.css\");\n",
       "      Bokeh.embed.inject_css(\"https://cdn.pydata.org/bokeh/release/bokeh-widgets-0.12.15.min.css\");\n",
       "      console.log(\"Bokeh: injecting CSS: https://cdn.pydata.org/bokeh/release/bokeh-tables-0.12.15.min.css\");\n",
       "      Bokeh.embed.inject_css(\"https://cdn.pydata.org/bokeh/release/bokeh-tables-0.12.15.min.css\");\n",
       "    }\n",
       "  ];\n",
       "\n",
       "  function run_inline_js() {\n",
       "    \n",
       "    if ((root.Bokeh !== undefined) || (force === true)) {\n",
       "      for (var i = 0; i < inline_js.length; i++) {\n",
       "        inline_js[i].call(root, root.Bokeh);\n",
       "      }if (force === true) {\n",
       "        display_loaded();\n",
       "      }} else if (Date.now() < root._bokeh_timeout) {\n",
       "      setTimeout(run_inline_js, 100);\n",
       "    } else if (!root._bokeh_failed_load) {\n",
       "      console.log(\"Bokeh: BokehJS failed to load within specified timeout.\");\n",
       "      root._bokeh_failed_load = true;\n",
       "    } else if (force !== true) {\n",
       "      var cell = $(document.getElementById(\"240bf86c-f7d6-4b39-93cf-7b728ad634a1\")).parents('.cell').data().cell;\n",
       "      cell.output_area.append_execute_result(NB_LOAD_WARNING)\n",
       "    }\n",
       "\n",
       "  }\n",
       "\n",
       "  if (root._bokeh_is_loading === 0) {\n",
       "    console.log(\"Bokeh: BokehJS loaded, going straight to plotting\");\n",
       "    run_inline_js();\n",
       "  } else {\n",
       "    load_libs(js_urls, function() {\n",
       "      console.log(\"Bokeh: BokehJS plotting callback run at\", now());\n",
       "      run_inline_js();\n",
       "    });\n",
       "  }\n",
       "}(window));"
      ],
      "application/vnd.bokehjs_load.v0+json": "\n(function(root) {\n  function now() {\n    return new Date();\n  }\n\n  var force = true;\n\n  if (typeof (root._bokeh_onload_callbacks) === \"undefined\" || force === true) {\n    root._bokeh_onload_callbacks = [];\n    root._bokeh_is_loading = undefined;\n  }\n\n  \n\n  \n  if (typeof (root._bokeh_timeout) === \"undefined\" || force === true) {\n    root._bokeh_timeout = Date.now() + 5000;\n    root._bokeh_failed_load = false;\n  }\n\n  var NB_LOAD_WARNING = {'data': {'text/html':\n     \"<div style='background-color: #fdd'>\\n\"+\n     \"<p>\\n\"+\n     \"BokehJS does not appear to have successfully loaded. If loading BokehJS from CDN, this \\n\"+\n     \"may be due to a slow or bad network connection. Possible fixes:\\n\"+\n     \"</p>\\n\"+\n     \"<ul>\\n\"+\n     \"<li>re-rerun `output_notebook()` to attempt to load from CDN again, or</li>\\n\"+\n     \"<li>use INLINE resources instead, as so:</li>\\n\"+\n     \"</ul>\\n\"+\n     \"<code>\\n\"+\n     \"from bokeh.resources import INLINE\\n\"+\n     \"output_notebook(resources=INLINE)\\n\"+\n     \"</code>\\n\"+\n     \"</div>\"}};\n\n  function display_loaded() {\n    var el = document.getElementById(\"240bf86c-f7d6-4b39-93cf-7b728ad634a1\");\n    if (el != null) {\n      el.textContent = \"BokehJS is loading...\";\n    }\n    if (root.Bokeh !== undefined) {\n      if (el != null) {\n        el.textContent = \"BokehJS \" + root.Bokeh.version + \" successfully loaded.\";\n      }\n    } else if (Date.now() < root._bokeh_timeout) {\n      setTimeout(display_loaded, 100)\n    }\n  }\n\n\n  function run_callbacks() {\n    try {\n      root._bokeh_onload_callbacks.forEach(function(callback) { callback() });\n    }\n    finally {\n      delete root._bokeh_onload_callbacks\n    }\n    console.info(\"Bokeh: all callbacks have finished\");\n  }\n\n  function load_libs(js_urls, callback) {\n    root._bokeh_onload_callbacks.push(callback);\n    if (root._bokeh_is_loading > 0) {\n      console.log(\"Bokeh: BokehJS is being loaded, scheduling callback at\", now());\n      return null;\n    }\n    if (js_urls == null || js_urls.length === 0) {\n      run_callbacks();\n      return null;\n    }\n    console.log(\"Bokeh: BokehJS not loaded, scheduling load and callback at\", now());\n    root._bokeh_is_loading = js_urls.length;\n    for (var i = 0; i < js_urls.length; i++) {\n      var url = js_urls[i];\n      var s = document.createElement('script');\n      s.src = url;\n      s.async = false;\n      s.onreadystatechange = s.onload = function() {\n        root._bokeh_is_loading--;\n        if (root._bokeh_is_loading === 0) {\n          console.log(\"Bokeh: all BokehJS libraries loaded\");\n          run_callbacks()\n        }\n      };\n      s.onerror = function() {\n        console.warn(\"failed to load library \" + url);\n      };\n      console.log(\"Bokeh: injecting script tag for BokehJS library: \", url);\n      document.getElementsByTagName(\"head\")[0].appendChild(s);\n    }\n  };var element = document.getElementById(\"240bf86c-f7d6-4b39-93cf-7b728ad634a1\");\n  if (element == null) {\n    console.log(\"Bokeh: ERROR: autoload.js configured with elementid '240bf86c-f7d6-4b39-93cf-7b728ad634a1' but no matching script tag was found. \")\n    return false;\n  }\n\n  var js_urls = [\"https://cdn.pydata.org/bokeh/release/bokeh-0.12.15.min.js\", \"https://cdn.pydata.org/bokeh/release/bokeh-widgets-0.12.15.min.js\", \"https://cdn.pydata.org/bokeh/release/bokeh-tables-0.12.15.min.js\", \"https://cdn.pydata.org/bokeh/release/bokeh-gl-0.12.15.min.js\"];\n\n  var inline_js = [\n    function(Bokeh) {\n      Bokeh.set_log_level(\"info\");\n    },\n    \n    function(Bokeh) {\n      \n    },\n    function(Bokeh) {\n      console.log(\"Bokeh: injecting CSS: https://cdn.pydata.org/bokeh/release/bokeh-0.12.15.min.css\");\n      Bokeh.embed.inject_css(\"https://cdn.pydata.org/bokeh/release/bokeh-0.12.15.min.css\");\n      console.log(\"Bokeh: injecting CSS: https://cdn.pydata.org/bokeh/release/bokeh-widgets-0.12.15.min.css\");\n      Bokeh.embed.inject_css(\"https://cdn.pydata.org/bokeh/release/bokeh-widgets-0.12.15.min.css\");\n      console.log(\"Bokeh: injecting CSS: https://cdn.pydata.org/bokeh/release/bokeh-tables-0.12.15.min.css\");\n      Bokeh.embed.inject_css(\"https://cdn.pydata.org/bokeh/release/bokeh-tables-0.12.15.min.css\");\n    }\n  ];\n\n  function run_inline_js() {\n    \n    if ((root.Bokeh !== undefined) || (force === true)) {\n      for (var i = 0; i < inline_js.length; i++) {\n        inline_js[i].call(root, root.Bokeh);\n      }if (force === true) {\n        display_loaded();\n      }} else if (Date.now() < root._bokeh_timeout) {\n      setTimeout(run_inline_js, 100);\n    } else if (!root._bokeh_failed_load) {\n      console.log(\"Bokeh: BokehJS failed to load within specified timeout.\");\n      root._bokeh_failed_load = true;\n    } else if (force !== true) {\n      var cell = $(document.getElementById(\"240bf86c-f7d6-4b39-93cf-7b728ad634a1\")).parents('.cell').data().cell;\n      cell.output_area.append_execute_result(NB_LOAD_WARNING)\n    }\n\n  }\n\n  if (root._bokeh_is_loading === 0) {\n    console.log(\"Bokeh: BokehJS loaded, going straight to plotting\");\n    run_inline_js();\n  } else {\n    load_libs(js_urls, function() {\n      console.log(\"Bokeh: BokehJS plotting callback run at\", now());\n      run_inline_js();\n    });\n  }\n}(window));"
     },
     "metadata": {},
     "output_type": "display_data"
    }
   ],
   "source": [
    "output_notebook()"
   ]
  },
  {
   "cell_type": "markdown",
   "metadata": {},
   "source": []
  },
  {
   "cell_type": "markdown",
   "metadata": {},
   "source": [
    "### Exploratory Data Analysis"
   ]
  },
  {
   "cell_type": "code",
   "execution_count": 5,
   "metadata": {
    "collapsed": true
   },
   "outputs": [],
   "source": [
    "df_a = pd.read_csv('anime.csv')\n",
    "df_r = pd.read_csv('rating.csv')"
   ]
  },
  {
   "cell_type": "code",
   "execution_count": 6,
   "metadata": {},
   "outputs": [
    {
     "data": {
      "text/html": [
       "<div>\n",
       "<style>\n",
       "    .dataframe thead tr:only-child th {\n",
       "        text-align: right;\n",
       "    }\n",
       "\n",
       "    .dataframe thead th {\n",
       "        text-align: left;\n",
       "    }\n",
       "\n",
       "    .dataframe tbody tr th {\n",
       "        vertical-align: top;\n",
       "    }\n",
       "</style>\n",
       "<table border=\"1\" class=\"dataframe\">\n",
       "  <thead>\n",
       "    <tr style=\"text-align: right;\">\n",
       "      <th></th>\n",
       "      <th>anime_id</th>\n",
       "      <th>name</th>\n",
       "      <th>genre</th>\n",
       "      <th>type</th>\n",
       "      <th>episodes</th>\n",
       "      <th>rating</th>\n",
       "      <th>members</th>\n",
       "    </tr>\n",
       "  </thead>\n",
       "  <tbody>\n",
       "    <tr>\n",
       "      <th>0</th>\n",
       "      <td>32281</td>\n",
       "      <td>Kimi no Na wa.</td>\n",
       "      <td>Drama, Romance, School, Supernatural</td>\n",
       "      <td>Movie</td>\n",
       "      <td>1</td>\n",
       "      <td>9.37</td>\n",
       "      <td>200630</td>\n",
       "    </tr>\n",
       "    <tr>\n",
       "      <th>1</th>\n",
       "      <td>5114</td>\n",
       "      <td>Fullmetal Alchemist: Brotherhood</td>\n",
       "      <td>Action, Adventure, Drama, Fantasy, Magic, Mili...</td>\n",
       "      <td>TV</td>\n",
       "      <td>64</td>\n",
       "      <td>9.26</td>\n",
       "      <td>793665</td>\n",
       "    </tr>\n",
       "    <tr>\n",
       "      <th>2</th>\n",
       "      <td>28977</td>\n",
       "      <td>Gintama°</td>\n",
       "      <td>Action, Comedy, Historical, Parody, Samurai, S...</td>\n",
       "      <td>TV</td>\n",
       "      <td>51</td>\n",
       "      <td>9.25</td>\n",
       "      <td>114262</td>\n",
       "    </tr>\n",
       "    <tr>\n",
       "      <th>3</th>\n",
       "      <td>9253</td>\n",
       "      <td>Steins;Gate</td>\n",
       "      <td>Sci-Fi, Thriller</td>\n",
       "      <td>TV</td>\n",
       "      <td>24</td>\n",
       "      <td>9.17</td>\n",
       "      <td>673572</td>\n",
       "    </tr>\n",
       "    <tr>\n",
       "      <th>4</th>\n",
       "      <td>9969</td>\n",
       "      <td>Gintama&amp;#039;</td>\n",
       "      <td>Action, Comedy, Historical, Parody, Samurai, S...</td>\n",
       "      <td>TV</td>\n",
       "      <td>51</td>\n",
       "      <td>9.16</td>\n",
       "      <td>151266</td>\n",
       "    </tr>\n",
       "  </tbody>\n",
       "</table>\n",
       "</div>"
      ],
      "text/plain": [
       "   anime_id                              name  \\\n",
       "0     32281                    Kimi no Na wa.   \n",
       "1      5114  Fullmetal Alchemist: Brotherhood   \n",
       "2     28977                          Gintama°   \n",
       "3      9253                       Steins;Gate   \n",
       "4      9969                     Gintama&#039;   \n",
       "\n",
       "                                               genre   type episodes  rating  \\\n",
       "0               Drama, Romance, School, Supernatural  Movie        1    9.37   \n",
       "1  Action, Adventure, Drama, Fantasy, Magic, Mili...     TV       64    9.26   \n",
       "2  Action, Comedy, Historical, Parody, Samurai, S...     TV       51    9.25   \n",
       "3                                   Sci-Fi, Thriller     TV       24    9.17   \n",
       "4  Action, Comedy, Historical, Parody, Samurai, S...     TV       51    9.16   \n",
       "\n",
       "   members  \n",
       "0   200630  \n",
       "1   793665  \n",
       "2   114262  \n",
       "3   673572  \n",
       "4   151266  "
      ]
     },
     "execution_count": 6,
     "metadata": {},
     "output_type": "execute_result"
    }
   ],
   "source": [
    "df_a.head()"
   ]
  },
  {
   "cell_type": "code",
   "execution_count": 7,
   "metadata": {},
   "outputs": [
    {
     "data": {
      "text/plain": [
       "array(['Movie', 'TV', 'OVA', 'Special', 'Music', 'ONA', nan], dtype=object)"
      ]
     },
     "execution_count": 7,
     "metadata": {},
     "output_type": "execute_result"
    }
   ],
   "source": [
    "df_a.type.unique()"
   ]
  },
  {
   "cell_type": "code",
   "execution_count": 8,
   "metadata": {},
   "outputs": [
    {
     "data": {
      "image/png": "[encoded data removed]",
      "text/plain": [
       "<matplotlib.figure.Figure at 0x117447be0>"
      ]
     },
     "metadata": {},
     "output_type": "display_data"
    }
   ],
   "source": [
    "#average ratings per type on myanimelist\n",
    "df_a.groupby(by = 'type').rating.mean().plot(kind = 'bar', title = 'Average Rating per Type')\n",
    "plt.xticks(rotation = 0)\n",
    "plt.xlabel('Type')\n",
    "plt.ylabel('Average Rating')\n",
    "plt.show()"
   ]
  },
  {
   "cell_type": "code",
   "execution_count": 9,
   "metadata": {},
   "outputs": [
    {
     "data": {
      "image/png": "[encoded data removed]",
      "text/plain": [
       "<matplotlib.figure.Figure at 0x1174475f8>"
      ]
     },
     "metadata": {},
     "output_type": "display_data"
    }
   ],
   "source": [
    "#which type has the most content?\n",
    "df_a.type.value_counts().plot(kind = 'bar', title = 'Total Content per Category')\n",
    "plt.xticks(rotation = 0)\n",
    "plt.xlabel('Type')\n",
    "plt.ylabel('Total Count per Types')\n",
    "plt.show()"
   ]
  },
  {
   "cell_type": "code",
   "execution_count": 10,
   "metadata": {
    "collapsed": true
   },
   "outputs": [],
   "source": [
    "#what specific content are by far the most popular(total number of member)?\n",
    "\n",
    "df_temp = df_a.sort_values(by = 'members', ascending = False)\n",
    "\n",
    "count = []\n",
    "name = []\n",
    "category = []\n",
    "rating = []\n",
    "track = 0\n",
    "\n",
    "for idx, series in df_temp.iterrows():\n",
    "    if track != 20:\n",
    "        count.append(series['members']/100000)\n",
    "        name.append(series['name'])\n",
    "        category.append(series['type'])\n",
    "        rating.append(series['rating'])\n",
    "        track +=1 \n",
    "        \n",
    "count.reverse()\n",
    "name.reverse()\n",
    "category.reverse()\n",
    "rating.reverse()"
   ]
  },
  {
   "cell_type": "code",
   "execution_count": 11,
   "metadata": {
    "collapsed": true
   },
   "outputs": [],
   "source": [
    "#what content has the highest ratings given that they have a good fanbase?\n",
    "df_temp1 = df_a.sort_values(by = 'rating', ascending = False)\n",
    "\n",
    "count1 = []\n",
    "name1 = []\n",
    "category1 = []\n",
    "rating1 = []\n",
    "track = 0\n",
    "\n",
    "for idx, series in df_temp1.iterrows():\n",
    "    if track != 20:\n",
    "        if series['members'] > 100000:\n",
    "            count1.append(series['members'])\n",
    "            name1.append(series['name'])\n",
    "            category1.append(series['type'])\n",
    "            rating1.append(series['rating'])\n",
    "            track +=1 \n",
    "        \n",
    "count1.reverse()\n",
    "name1.reverse()\n",
    "category1.reverse()\n",
    "rating1.reverse()"
   ]
  },
  {
   "cell_type": "code",
   "execution_count": 12,
   "metadata": {},
   "outputs": [
    {
     "data": {
      "text/html": [
       "\n",
       "<div class=\"bk-root\">\n",
       "    <div class=\"bk-plotdiv\" id=\"ea31b4ab-c07d-4be1-841d-4cb9ef7f37b8\"></div>\n",
       "</div>"
      ]
     },
     "metadata": {},
     "output_type": "display_data"
    },
    {
     "data": {
      "application/javascript": [
       "(function(root) {\n",
       "  function embed_document(root) {\n",
       "    \n",
       "  var docs_json = {\"212805bb-db0a-45a6-a1b2-5ca12f173797\":{\"roots\":{\"references\":[{\"attributes\":{},\"id\":\"71590164-4309-486b-b196-95099f248f74\",\"type\":\"ResetTool\"},{\"attributes\":{\"bottom_units\":\"screen\",\"fill_alpha\":{\"value\":0.5},\"fill_color\":{\"value\":\"lightgrey\"},\"left_units\":\"screen\",\"level\":\"overlay\",\"line_alpha\":{\"value\":1.0},\"line_color\":{\"value\":\"black\"},\"line_dash\":[4,4],\"line_width\":{\"value\":2},\"plot\":null,\"render_mode\":\"css\",\"right_units\":\"screen\",\"top_units\":\"screen\"},\"id\":\"a3b90880-776a-4706-acfe-55f263ad5b19\",\"type\":\"BoxAnnotation\"},{\"attributes\":{},\"id\":\"2fc9cbc1-46c8-4f51-89f5-c156e0544576\",\"type\":\"HelpTool\"},{\"attributes\":{},\"id\":\"4acb0203-c6a2-4586-acb1-f5ad0555f90e\",\"type\":\"LinearScale\"},{\"attributes\":{},\"id\":\"9aaabf97-ca7b-4e2f-b04a-0e1afec1f03e\",\"type\":\"BasicTickFormatter\"},{\"attributes\":{},\"id\":\"c1d06331-dc2c-4a6c-85ef-7b41e6422c16\",\"type\":\"SaveTool\"},{\"attributes\":{\"overlay\":{\"id\":\"a3b90880-776a-4706-acfe-55f263ad5b19\",\"type\":\"BoxAnnotation\"}},\"id\":\"2e60960d-be56-433a-a0db-caebd7fff289\",\"type\":\"BoxZoomTool\"},{\"attributes\":{},\"id\":\"079301fa-394b-4eef-b890-bf5cf7007dc3\",\"type\":\"BasicTicker\"},{\"attributes\":{},\"id\":\"62b3e136-0eda-46b2-a72e-89b85f84810b\",\"type\":\"WheelZoomTool\"},{\"attributes\":{\"overlay\":{\"id\":\"836ad759-de18-4cff-839c-70c1e5f10a33\",\"type\":\"BoxAnnotation\"}},\"id\":\"0af60ca6-7009-4811-98d3-d6615df3f1d2\",\"type\":\"BoxZoomTool\"},{\"attributes\":{},\"id\":\"ef19acda-6d6b-4e00-92c1-35ce1e5efaa0\",\"type\":\"SaveTool\"},{\"attributes\":{\"plot\":null,\"text\":\"Top 20 Most Popular Content\"},\"id\":\"9181f713-60b8-4455-bd12-1082a5dd9a40\",\"type\":\"Title\"},{\"attributes\":{},\"id\":\"d3c62001-6f34-475b-b16c-4bd43deabd65\",\"type\":\"CategoricalTicker\"},{\"attributes\":{\"bottom_units\":\"screen\",\"fill_alpha\":{\"value\":0.5},\"fill_color\":{\"value\":\"lightgrey\"},\"left_units\":\"screen\",\"level\":\"overlay\",\"line_alpha\":{\"value\":1.0},\"line_color\":{\"value\":\"black\"},\"line_dash\":[4,4],\"line_width\":{\"value\":2},\"plot\":null,\"render_mode\":\"css\",\"right_units\":\"screen\",\"top_units\":\"screen\"},\"id\":\"836ad759-de18-4cff-839c-70c1e5f10a33\",\"type\":\"BoxAnnotation\"},{\"attributes\":{},\"id\":\"fe9f117d-58ce-4e4f-9b6f-5b2a1e44d941\",\"type\":\"CategoricalScale\"},{\"attributes\":{\"dimension\":1,\"plot\":{\"id\":\"5f9a41cd-8f11-4a8a-8e20-b7359c4a8c78\",\"subtype\":\"Figure\",\"type\":\"Plot\"},\"ticker\":{\"id\":\"8a966d0a-0c76-4a16-8067-54f85a83c9df\",\"type\":\"CategoricalTicker\"}},\"id\":\"630d963c-1865-4d50-84d9-3e8dba246a12\",\"type\":\"Grid\"},{\"attributes\":{\"fill_color\":{\"value\":\"#1f77b4\"},\"height\":{\"value\":0.4},\"line_color\":{\"value\":\"#1f77b4\"},\"right\":{\"field\":\"rating\"},\"y\":{\"field\":\"name\"}},\"id\":\"6a3dfaee-11e4-4d4c-9956-3b0426823a0d\",\"type\":\"HBar\"},{\"attributes\":{\"axis_label\":\"No. of Members(Hundred Thousands)\",\"formatter\":{\"id\":\"9aaabf97-ca7b-4e2f-b04a-0e1afec1f03e\",\"type\":\"BasicTickFormatter\"},\"plot\":{\"id\":\"556d1051-8ae6-421e-8c18-e1bd2d530cec\",\"subtype\":\"Figure\",\"type\":\"Plot\"},\"ticker\":{\"id\":\"079301fa-394b-4eef-b890-bf5cf7007dc3\",\"type\":\"BasicTicker\"}},\"id\":\"ad7dc0b4-f013-460a-a6ca-2ed3c95c0d82\",\"type\":\"LinearAxis\"},{\"attributes\":{\"fill_alpha\":{\"value\":0.1},\"fill_color\":{\"value\":\"#1f77b4\"},\"height\":{\"value\":0.4},\"line_alpha\":{\"value\":0.1},\"line_color\":{\"value\":\"#1f77b4\"},\"right\":{\"field\":\"Members\"},\"y\":{\"field\":\"name\"}},\"id\":\"b02d7cef-5ce1-4b50-9feb-566fce2155b3\",\"type\":\"HBar\"},{\"attributes\":{},\"id\":\"82a46aa8-7c9b-4784-8214-2a232078a3bf\",\"type\":\"CategoricalTickFormatter\"},{\"attributes\":{\"callback\":null,\"factors\":[\"Clannad\",\"Code Geass: Hangyaku no Lelouch R2\",\"Soul Eater\",\"Ao no Exorcist\",\"Fairy Tail\",\"Fullmetal Alchemist\",\"No Game No Life\",\"Tokyo Ghoul\",\"Elfen Lied\",\"Bleach\",\"Toradora!\",\"Mirai Nikki (TV)\",\"Steins;Gate\",\"Naruto\",\"Code Geass: Hangyaku no Lelouch\",\"Angel Beats!\",\"Fullmetal Alchemist: Brotherhood\",\"Sword Art Online\",\"Shingeki no Kyojin\",\"Death Note\"]},\"id\":\"2201f557-c173-4880-bc31-00c0b9d31fea\",\"type\":\"FactorRange\"},{\"attributes\":{},\"id\":\"8721e57c-024a-41d0-b40d-74c2e72c3e83\",\"type\":\"PanTool\"},{\"attributes\":{\"data_source\":{\"id\":\"6e4b6656-3644-4e86-82b5-a17fa088de85\",\"type\":\"ColumnDataSource\"},\"glyph\":{\"id\":\"7df5b016-d976-4c63-a09a-130605ce1731\",\"type\":\"HBar\"},\"hover_glyph\":null,\"muted_glyph\":null,\"nonselection_glyph\":{\"id\":\"b02d7cef-5ce1-4b50-9feb-566fce2155b3\",\"type\":\"HBar\"},\"selection_glyph\":null,\"view\":{\"id\":\"f2d919e3-5bd0-4270-8d66-37477c38a00f\",\"type\":\"CDSView\"}},\"id\":\"0fe461b1-a020-4271-8723-37dd3fe8c122\",\"type\":\"GlyphRenderer\"},{\"attributes\":{\"callback\":null},\"id\":\"6b60d306-d928-4217-ad20-2962d9480439\",\"type\":\"DataRange1d\"},{\"attributes\":{},\"id\":\"8a966d0a-0c76-4a16-8067-54f85a83c9df\",\"type\":\"CategoricalTicker\"},{\"attributes\":{\"data_source\":{\"id\":\"fa7d690b-6b7b-47fb-b203-53486ff9d7f8\",\"type\":\"ColumnDataSource\"},\"glyph\":{\"id\":\"6a3dfaee-11e4-4d4c-9956-3b0426823a0d\",\"type\":\"HBar\"},\"hover_glyph\":null,\"muted_glyph\":null,\"nonselection_glyph\":{\"id\":\"488c6a40-faeb-4845-990d-ed055d406e1b\",\"type\":\"HBar\"},\"selection_glyph\":null,\"view\":{\"id\":\"99fdf3af-6f4b-4fc6-a44b-037b4bf3ab68\",\"type\":\"CDSView\"}},\"id\":\"e138d7c3-bfe1-4d24-9145-47b8b5663e33\",\"type\":\"GlyphRenderer\"},{\"attributes\":{\"axis_label\":\"Content\",\"formatter\":{\"id\":\"82a46aa8-7c9b-4784-8214-2a232078a3bf\",\"type\":\"CategoricalTickFormatter\"},\"plot\":{\"id\":\"5f9a41cd-8f11-4a8a-8e20-b7359c4a8c78\",\"subtype\":\"Figure\",\"type\":\"Plot\"},\"ticker\":{\"id\":\"8a966d0a-0c76-4a16-8067-54f85a83c9df\",\"type\":\"CategoricalTicker\"}},\"id\":\"b448225d-0af3-4f5e-ba78-2048e89f05f1\",\"type\":\"CategoricalAxis\"},{\"attributes\":{\"fill_color\":{\"value\":\"#1f77b4\"},\"height\":{\"value\":0.4},\"line_color\":{\"value\":\"#1f77b4\"},\"right\":{\"field\":\"Members\"},\"y\":{\"field\":\"name\"}},\"id\":\"7df5b016-d976-4c63-a09a-130605ce1731\",\"type\":\"HBar\"},{\"attributes\":{},\"id\":\"420a1750-524d-42b8-9e8d-9ed3c61b57a0\",\"type\":\"WheelZoomTool\"},{\"attributes\":{},\"id\":\"57ae306e-9829-4a2d-8971-7d4c54fb8245\",\"type\":\"BasicTicker\"},{\"attributes\":{},\"id\":\"b0a67904-8a1d-41fe-a558-0757cffbb2fa\",\"type\":\"ResetTool\"},{\"attributes\":{},\"id\":\"07fd919a-b69c-4478-b8f2-f41735d7902d\",\"type\":\"BasicTickFormatter\"},{\"attributes\":{\"children\":[{\"id\":\"556d1051-8ae6-421e-8c18-e1bd2d530cec\",\"subtype\":\"Figure\",\"type\":\"Plot\"},{\"id\":\"5f9a41cd-8f11-4a8a-8e20-b7359c4a8c78\",\"subtype\":\"Figure\",\"type\":\"Plot\"}]},\"id\":\"d8ec78d1-9546-44cb-ab53-3ddb0852f2ac\",\"type\":\"Column\"},{\"attributes\":{},\"id\":\"67fe0c99-7137-4fb1-8bd5-29c907e031d4\",\"type\":\"PanTool\"},{\"attributes\":{\"below\":[{\"id\":\"aec6f2e2-46d9-4318-bf84-4c83f60689e3\",\"type\":\"LinearAxis\"}],\"left\":[{\"id\":\"b448225d-0af3-4f5e-ba78-2048e89f05f1\",\"type\":\"CategoricalAxis\"}],\"plot_height\":300,\"plot_width\":800,\"renderers\":[{\"id\":\"aec6f2e2-46d9-4318-bf84-4c83f60689e3\",\"type\":\"LinearAxis\"},{\"id\":\"f09e9e4d-7d94-4f66-ab1c-fa01f825a20e\",\"type\":\"Grid\"},{\"id\":\"b448225d-0af3-4f5e-ba78-2048e89f05f1\",\"type\":\"CategoricalAxis\"},{\"id\":\"630d963c-1865-4d50-84d9-3e8dba246a12\",\"type\":\"Grid\"},{\"id\":\"836ad759-de18-4cff-839c-70c1e5f10a33\",\"type\":\"BoxAnnotation\"},{\"id\":\"e138d7c3-bfe1-4d24-9145-47b8b5663e33\",\"type\":\"GlyphRenderer\"}],\"title\":{\"id\":\"843f0a36-0bdf-49a7-bb51-74fd5c234cc9\",\"type\":\"Title\"},\"toolbar\":{\"id\":\"30485289-c3d9-41a5-9cd4-1ef27977d690\",\"type\":\"Toolbar\"},\"x_range\":{\"id\":\"dfe762a6-74ed-46a6-97cf-f5f64973deb5\",\"type\":\"DataRange1d\"},\"x_scale\":{\"id\":\"3773401a-16a8-49d6-9e6a-044d7d6b7f0a\",\"type\":\"LinearScale\"},\"y_range\":{\"id\":\"9bcc5a8f-dbe5-47bc-af27-c5a8e28ed214\",\"type\":\"FactorRange\"},\"y_scale\":{\"id\":\"fe9f117d-58ce-4e4f-9b6f-5b2a1e44d941\",\"type\":\"CategoricalScale\"}},\"id\":\"5f9a41cd-8f11-4a8a-8e20-b7359c4a8c78\",\"subtype\":\"Figure\",\"type\":\"Plot\"},{\"attributes\":{\"callback\":null,\"column_names\":[\"Members\",\"name\",\"category\",\"rating\"],\"data\":{\"Members\":[5.6669,5.72888,5.80184,5.83823,5.8459,6.00384,6.02291,6.18056,6.23511,6.24055,6.33817,6.5719,6.73572,6.83297,7.15151,7.17796,7.93665,8.931,8.96229,10.13917],\"category\":[\"TV\",\"TV\",\"TV\",\"TV\",\"TV\",\"TV\",\"TV\",\"TV\",\"TV\",\"TV\",\"TV\",\"TV\",\"TV\",\"TV\",\"TV\",\"TV\",\"TV\",\"TV\",\"TV\",\"TV\"],\"name\":[\"Clannad\",\"Code Geass: Hangyaku no Lelouch R2\",\"Soul Eater\",\"Ao no Exorcist\",\"Fairy Tail\",\"Fullmetal Alchemist\",\"No Game No Life\",\"Tokyo Ghoul\",\"Elfen Lied\",\"Bleach\",\"Toradora!\",\"Mirai Nikki (TV)\",\"Steins;Gate\",\"Naruto\",\"Code Geass: Hangyaku no Lelouch\",\"Angel Beats!\",\"Fullmetal Alchemist: Brotherhood\",\"Sword Art Online\",\"Shingeki no Kyojin\",\"Death Note\"],\"rating\":[8.3,8.98,8.08,7.92,8.22,8.33,8.47,8.07,7.85,7.95,8.45,8.07,9.17,7.81,8.83,8.39,9.26,7.83,8.54,8.71]},\"selected\":null,\"selection_policy\":null},\"id\":\"6e4b6656-3644-4e86-82b5-a17fa088de85\",\"type\":\"ColumnDataSource\"},{\"attributes\":{\"source\":{\"id\":\"fa7d690b-6b7b-47fb-b203-53486ff9d7f8\",\"type\":\"ColumnDataSource\"}},\"id\":\"99fdf3af-6f4b-4fc6-a44b-037b4bf3ab68\",\"type\":\"CDSView\"},{\"attributes\":{\"callback\":null,\"tooltips\":[[\"Category\",\"@category\"],[\"Members\",\"@Members\"]]},\"id\":\"4f1d8cd5-c95c-47e3-b599-ebbeaf929e01\",\"type\":\"HoverTool\"},{\"attributes\":{},\"id\":\"f7c3c3ab-5098-496d-bdfb-456e954b0330\",\"type\":\"HelpTool\"},{\"attributes\":{\"axis_label\":\"Content\",\"formatter\":{\"id\":\"465ef060-9868-4329-be11-b28d1b3d35d0\",\"type\":\"CategoricalTickFormatter\"},\"plot\":{\"id\":\"556d1051-8ae6-421e-8c18-e1bd2d530cec\",\"subtype\":\"Figure\",\"type\":\"Plot\"},\"ticker\":{\"id\":\"d3c62001-6f34-475b-b16c-4bd43deabd65\",\"type\":\"CategoricalTicker\"}},\"id\":\"83daf18b-a56c-439c-9b4b-0a9dd311bf79\",\"type\":\"CategoricalAxis\"},{\"attributes\":{\"plot\":{\"id\":\"5f9a41cd-8f11-4a8a-8e20-b7359c4a8c78\",\"subtype\":\"Figure\",\"type\":\"Plot\"},\"ticker\":{\"id\":\"57ae306e-9829-4a2d-8971-7d4c54fb8245\",\"type\":\"BasicTicker\"}},\"id\":\"f09e9e4d-7d94-4f66-ab1c-fa01f825a20e\",\"type\":\"Grid\"},{\"attributes\":{\"axis_label\":\"Rating\",\"formatter\":{\"id\":\"07fd919a-b69c-4478-b8f2-f41735d7902d\",\"type\":\"BasicTickFormatter\"},\"plot\":{\"id\":\"5f9a41cd-8f11-4a8a-8e20-b7359c4a8c78\",\"subtype\":\"Figure\",\"type\":\"Plot\"},\"ticker\":{\"id\":\"57ae306e-9829-4a2d-8971-7d4c54fb8245\",\"type\":\"BasicTicker\"}},\"id\":\"aec6f2e2-46d9-4318-bf84-4c83f60689e3\",\"type\":\"LinearAxis\"},{\"attributes\":{\"active_drag\":\"auto\",\"active_inspect\":\"auto\",\"active_scroll\":\"auto\",\"active_tap\":\"auto\",\"tools\":[{\"id\":\"67fe0c99-7137-4fb1-8bd5-29c907e031d4\",\"type\":\"PanTool\"},{\"id\":\"62b3e136-0eda-46b2-a72e-89b85f84810b\",\"type\":\"WheelZoomTool\"},{\"id\":\"2e60960d-be56-433a-a0db-caebd7fff289\",\"type\":\"BoxZoomTool\"},{\"id\":\"c1d06331-dc2c-4a6c-85ef-7b41e6422c16\",\"type\":\"SaveTool\"},{\"id\":\"71590164-4309-486b-b196-95099f248f74\",\"type\":\"ResetTool\"},{\"id\":\"2fc9cbc1-46c8-4f51-89f5-c156e0544576\",\"type\":\"HelpTool\"},{\"id\":\"40221a3d-5c40-44d0-be5e-43b7635f2679\",\"type\":\"HoverTool\"}]},\"id\":\"4ab81247-3275-484b-a6a4-1ffc4368781b\",\"type\":\"Toolbar\"},{\"attributes\":{\"dimension\":1,\"plot\":{\"id\":\"556d1051-8ae6-421e-8c18-e1bd2d530cec\",\"subtype\":\"Figure\",\"type\":\"Plot\"},\"ticker\":{\"id\":\"d3c62001-6f34-475b-b16c-4bd43deabd65\",\"type\":\"CategoricalTicker\"}},\"id\":\"afb1e694-57b0-479a-b155-00c95ad93c86\",\"type\":\"Grid\"},{\"attributes\":{\"callback\":null},\"id\":\"dfe762a6-74ed-46a6-97cf-f5f64973deb5\",\"type\":\"DataRange1d\"},{\"attributes\":{},\"id\":\"3773401a-16a8-49d6-9e6a-044d7d6b7f0a\",\"type\":\"LinearScale\"},{\"attributes\":{\"source\":{\"id\":\"6e4b6656-3644-4e86-82b5-a17fa088de85\",\"type\":\"ColumnDataSource\"}},\"id\":\"f2d919e3-5bd0-4270-8d66-37477c38a00f\",\"type\":\"CDSView\"},{\"attributes\":{\"plot\":null,\"text\":\"Top 20 Highest Rated Content\"},\"id\":\"843f0a36-0bdf-49a7-bb51-74fd5c234cc9\",\"type\":\"Title\"},{\"attributes\":{\"plot\":{\"id\":\"556d1051-8ae6-421e-8c18-e1bd2d530cec\",\"subtype\":\"Figure\",\"type\":\"Plot\"},\"ticker\":{\"id\":\"079301fa-394b-4eef-b890-bf5cf7007dc3\",\"type\":\"BasicTicker\"}},\"id\":\"af7a7303-da23-4c65-851d-501be4874f5b\",\"type\":\"Grid\"},{\"attributes\":{\"fill_alpha\":{\"value\":0.1},\"fill_color\":{\"value\":\"#1f77b4\"},\"height\":{\"value\":0.4},\"line_alpha\":{\"value\":0.1},\"line_color\":{\"value\":\"#1f77b4\"},\"right\":{\"field\":\"rating\"},\"y\":{\"field\":\"name\"}},\"id\":\"488c6a40-faeb-4845-990d-ed055d406e1b\",\"type\":\"HBar\"},{\"attributes\":{},\"id\":\"fb6138e5-7ed9-4aa3-a723-44d9496965ea\",\"type\":\"CategoricalScale\"},{\"attributes\":{\"callback\":null,\"factors\":[\"Mononoke Hime\",\"One Punch Man\",\"Cowboy Bebop\",\"Code Geass: Hangyaku no Lelouch\",\"Hajime no Ippo\",\"Rurouni Kenshin: Meiji Kenkaku Romantan - Tsuioku-hen\",\"Ookami Kodomo no Ame to Yuki\",\"Shigatsu wa Kimi no Uso\",\"Haikyuu!! Second Season\",\"Sen to Chihiro no Kamikakushi\",\"Code Geass: Hangyaku no Lelouch R2\",\"Gintama\",\"Koe no Katachi\",\"Clannad: After Story\",\"Hunter x Hunter (2011)\",\"Gintama&#039;\",\"Steins;Gate\",\"Gintama\\u00b0\",\"Fullmetal Alchemist: Brotherhood\",\"Kimi no Na wa.\"]},\"id\":\"9bcc5a8f-dbe5-47bc-af27-c5a8e28ed214\",\"type\":\"FactorRange\"},{\"attributes\":{\"active_drag\":\"auto\",\"active_inspect\":\"auto\",\"active_scroll\":\"auto\",\"active_tap\":\"auto\",\"tools\":[{\"id\":\"8721e57c-024a-41d0-b40d-74c2e72c3e83\",\"type\":\"PanTool\"},{\"id\":\"420a1750-524d-42b8-9e8d-9ed3c61b57a0\",\"type\":\"WheelZoomTool\"},{\"id\":\"0af60ca6-7009-4811-98d3-d6615df3f1d2\",\"type\":\"BoxZoomTool\"},{\"id\":\"ef19acda-6d6b-4e00-92c1-35ce1e5efaa0\",\"type\":\"SaveTool\"},{\"id\":\"b0a67904-8a1d-41fe-a558-0757cffbb2fa\",\"type\":\"ResetTool\"},{\"id\":\"f7c3c3ab-5098-496d-bdfb-456e954b0330\",\"type\":\"HelpTool\"},{\"id\":\"4f1d8cd5-c95c-47e3-b599-ebbeaf929e01\",\"type\":\"HoverTool\"}]},\"id\":\"30485289-c3d9-41a5-9cd4-1ef27977d690\",\"type\":\"Toolbar\"},{\"attributes\":{},\"id\":\"465ef060-9868-4329-be11-b28d1b3d35d0\",\"type\":\"CategoricalTickFormatter\"},{\"attributes\":{\"callback\":null,\"tooltips\":[[\"Category\",\"@category\"],[\"Rating\",\"@rating\"]]},\"id\":\"40221a3d-5c40-44d0-be5e-43b7635f2679\",\"type\":\"HoverTool\"},{\"attributes\":{\"below\":[{\"id\":\"ad7dc0b4-f013-460a-a6ca-2ed3c95c0d82\",\"type\":\"LinearAxis\"}],\"left\":[{\"id\":\"83daf18b-a56c-439c-9b4b-0a9dd311bf79\",\"type\":\"CategoricalAxis\"}],\"plot_height\":300,\"plot_width\":800,\"renderers\":[{\"id\":\"ad7dc0b4-f013-460a-a6ca-2ed3c95c0d82\",\"type\":\"LinearAxis\"},{\"id\":\"af7a7303-da23-4c65-851d-501be4874f5b\",\"type\":\"Grid\"},{\"id\":\"83daf18b-a56c-439c-9b4b-0a9dd311bf79\",\"type\":\"CategoricalAxis\"},{\"id\":\"afb1e694-57b0-479a-b155-00c95ad93c86\",\"type\":\"Grid\"},{\"id\":\"a3b90880-776a-4706-acfe-55f263ad5b19\",\"type\":\"BoxAnnotation\"},{\"id\":\"0fe461b1-a020-4271-8723-37dd3fe8c122\",\"type\":\"GlyphRenderer\"}],\"title\":{\"id\":\"9181f713-60b8-4455-bd12-1082a5dd9a40\",\"type\":\"Title\"},\"toolbar\":{\"id\":\"4ab81247-3275-484b-a6a4-1ffc4368781b\",\"type\":\"Toolbar\"},\"x_range\":{\"id\":\"6b60d306-d928-4217-ad20-2962d9480439\",\"type\":\"DataRange1d\"},\"x_scale\":{\"id\":\"4acb0203-c6a2-4586-acb1-f5ad0555f90e\",\"type\":\"LinearScale\"},\"y_range\":{\"id\":\"2201f557-c173-4880-bc31-00c0b9d31fea\",\"type\":\"FactorRange\"},\"y_scale\":{\"id\":\"fb6138e5-7ed9-4aa3-a723-44d9496965ea\",\"type\":\"CategoricalScale\"}},\"id\":\"556d1051-8ae6-421e-8c18-e1bd2d530cec\",\"subtype\":\"Figure\",\"type\":\"Plot\"},{\"attributes\":{\"callback\":null,\"column_names\":[\"Members\",\"name\",\"category\",\"rating\"],\"data\":{\"Members\":[339556,552458,486824,715151,157670,129307,226193,416397,179342,466254,572888,336376,102733,456749,425855,151266,673572,114262,793665,200630],\"category\":[\"Movie\",\"TV\",\"TV\",\"TV\",\"TV\",\"OVA\",\"Movie\",\"TV\",\"TV\",\"Movie\",\"TV\",\"TV\",\"Movie\",\"TV\",\"TV\",\"TV\",\"TV\",\"TV\",\"TV\",\"Movie\"],\"name\":[\"Mononoke Hime\",\"One Punch Man\",\"Cowboy Bebop\",\"Code Geass: Hangyaku no Lelouch\",\"Hajime no Ippo\",\"Rurouni Kenshin: Meiji Kenkaku Romantan - Tsuioku-hen\",\"Ookami Kodomo no Ame to Yuki\",\"Shigatsu wa Kimi no Uso\",\"Haikyuu!! Second Season\",\"Sen to Chihiro no Kamikakushi\",\"Code Geass: Hangyaku no Lelouch R2\",\"Gintama\",\"Koe no Katachi\",\"Clannad: After Story\",\"Hunter x Hunter (2011)\",\"Gintama&#039;\",\"Steins;Gate\",\"Gintama\\u00b0\",\"Fullmetal Alchemist: Brotherhood\",\"Kimi no Na wa.\"],\"rating\":[8.81,8.82,8.82,8.83,8.83,8.83,8.84,8.92,8.93,8.93,8.98,9.04,9.05,9.06,9.13,9.16,9.17,9.25,9.26,9.37]},\"selected\":null,\"selection_policy\":null},\"id\":\"fa7d690b-6b7b-47fb-b203-53486ff9d7f8\",\"type\":\"ColumnDataSource\"}],\"root_ids\":[\"d8ec78d1-9546-44cb-ab53-3ddb0852f2ac\"]},\"title\":\"Bokeh Application\",\"version\":\"0.12.15\"}};\n",
       "  var render_items = [{\"docid\":\"212805bb-db0a-45a6-a1b2-5ca12f173797\",\"elementid\":\"ea31b4ab-c07d-4be1-841d-4cb9ef7f37b8\",\"modelid\":\"d8ec78d1-9546-44cb-ab53-3ddb0852f2ac\"}];\n",
       "  root.Bokeh.embed.embed_items_notebook(docs_json, render_items);\n",
       "\n",
       "  }\n",
       "  if (root.Bokeh !== undefined) {\n",
       "    embed_document(root);\n",
       "  } else {\n",
       "    var attempts = 0;\n",
       "    var timer = setInterval(function(root) {\n",
       "      if (root.Bokeh !== undefined) {\n",
       "        embed_document(root);\n",
       "        clearInterval(timer);\n",
       "      }\n",
       "      attempts++;\n",
       "      if (attempts > 100) {\n",
       "        console.log(\"Bokeh: ERROR: Unable to run BokehJS code because BokehJS library is missing\")\n",
       "        clearInterval(timer);\n",
       "      }\n",
       "    }, 10, root)\n",
       "  }\n",
       "})(window);"
      ],
      "application/vnd.bokehjs_exec.v0+json": ""
     },
     "metadata": {
      "application/vnd.bokehjs_exec.v0+json": {
       "id": "d8ec78d1-9546-44cb-ab53-3ddb0852f2ac"
      }
     },
     "output_type": "display_data"
    }
   ],
   "source": [
    "from bokeh.layouts import column\n",
    "from bokeh.models import ColumnDataSource, HoverTool\n",
    "\n",
    "s = ColumnDataSource(data = {'Members':count, 'name': name, 'category': category, 'rating':rating})\n",
    "p_pop = figure(y_range = name,  title = 'Top 20 Most Popular Content', plot_width = 800, plot_height = 300, y_axis_label = 'Content', x_axis_label = 'No. of Members(Hundred Thousands)')\n",
    "\n",
    "p_pop.hbar(y = 'name', right = 'Members', left = 0, height = 0.4, source = s)\n",
    "hover = HoverTool(tooltips=[('Category', '@category'), ('Rating', '@rating')])\n",
    "p_pop.add_tools(hover)\n",
    "\n",
    "source1 = ColumnDataSource(data = {'Members':count1, 'name': name1, 'category': category1, 'rating':rating1})\n",
    "high_rate = figure(y_range = name1, title = 'Top 20 Highest Rated Content', plot_width = 800, plot_height = 300, y_axis_label = 'Content', x_axis_label = 'Rating')\n",
    "high_rate.hbar(y = 'name', right = 'rating', left = 0, height = .4, source = source1)\n",
    "hover1 = HoverTool(tooltips = [('Category', '@category'),('Members', '@Members')])\n",
    "high_rate.add_tools(hover1)\n",
    "\n",
    "layout = column(p_pop, high_rate)\n",
    "show(layout)"
   ]
  },
  {
   "cell_type": "code",
   "execution_count": 13,
   "metadata": {},
   "outputs": [
    {
     "data": {
      "text/plain": [
       "{'Code Geass: Hangyaku no Lelouch',\n",
       " 'Code Geass: Hangyaku no Lelouch R2',\n",
       " 'Fullmetal Alchemist: Brotherhood',\n",
       " 'Steins;Gate'}"
      ]
     },
     "execution_count": 13,
     "metadata": {},
     "output_type": "execute_result"
    }
   ],
   "source": [
    "#these four shows are both within the top 20 of being the most popular and having the highest rating\n",
    "set(name).intersection(set(name1))"
   ]
  },
  {
   "cell_type": "markdown",
   "metadata": {},
   "source": [
    "### The most popular contents usually contain actions while the highest rated content are usually shounen which is a genre that targets teenage male audience."
   ]
  },
  {
   "cell_type": "code",
   "execution_count": 14,
   "metadata": {},
   "outputs": [
    {
     "data": {
      "text/html": [
       "\n",
       "<div class=\"bk-root\">\n",
       "    <div class=\"bk-plotdiv\" id=\"862e7b7b-0dd8-4e9c-b1de-6df4e94d8e26\"></div>\n",
       "</div>"
      ]
     },
     "metadata": {},
     "output_type": "display_data"
    },
    {
     "data": {
      "application/javascript": [
       "(function(root) {\n",
       "  function embed_document(root) {\n",
       "    \n",
       "  var docs_json = {\"a8dcf713-26fa-4ee6-8dbd-30965e4f15a5\":{\"roots\":{\"references\":[{\"attributes\":{\"data_source\":{\"id\":\"c9ae9719-6770-47fd-acfe-fa97a371f5f9\",\"type\":\"ColumnDataSource\"},\"glyph\":{\"id\":\"53e19baa-93b8-4ac3-8c0c-8cd2dd390241\",\"type\":\"HBar\"},\"hover_glyph\":null,\"muted_glyph\":null,\"nonselection_glyph\":{\"id\":\"b0bbe440-470a-4358-b613-708af5aabc5e\",\"type\":\"HBar\"},\"selection_glyph\":null,\"view\":{\"id\":\"135d60dc-d770-4310-925d-8f0a4807d044\",\"type\":\"CDSView\"}},\"id\":\"7096bf0d-dbae-41cd-bb65-a35da6138b13\",\"type\":\"GlyphRenderer\"},{\"attributes\":{},\"id\":\"0590326c-1cdb-4280-acd9-c15eed7e2146\",\"type\":\"WheelZoomTool\"},{\"attributes\":{\"fill_alpha\":{\"value\":0.1},\"fill_color\":{\"value\":\"#1f77b4\"},\"height\":{\"value\":0.4},\"line_alpha\":{\"value\":0.1},\"line_color\":{\"value\":\"#1f77b4\"},\"right\":{\"field\":\"right\"},\"y\":{\"field\":\"y\"}},\"id\":\"b0bbe440-470a-4358-b613-708af5aabc5e\",\"type\":\"HBar\"},{\"attributes\":{\"source\":{\"id\":\"1569ab1f-0baf-4d4e-8a0b-9f7e5888dd20\",\"type\":\"ColumnDataSource\"}},\"id\":\"93cb7188-5a5a-4386-989b-1e75952944ec\",\"type\":\"CDSView\"},{\"attributes\":{},\"id\":\"499b04d0-be01-4b01-84a5-16b7f43f3d81\",\"type\":\"HelpTool\"},{\"attributes\":{\"overlay\":{\"id\":\"ed90e2c4-723d-46af-9f61-a72934687fd4\",\"type\":\"BoxAnnotation\"}},\"id\":\"890c0ea7-7a65-4f3c-bd5c-9657baac1d56\",\"type\":\"BoxZoomTool\"},{\"attributes\":{\"callback\":null},\"id\":\"ce88978e-f675-4d9f-90d7-1a6fa6360269\",\"type\":\"DataRange1d\"},{\"attributes\":{},\"id\":\"22aa359a-1e9f-4208-a235-e76379fa18fa\",\"type\":\"SaveTool\"},{\"attributes\":{\"active_drag\":\"auto\",\"active_inspect\":\"auto\",\"active_scroll\":\"auto\",\"active_tap\":\"auto\",\"tools\":[{\"id\":\"49fb1f6e-6378-4982-807b-5352f62033f4\",\"type\":\"PanTool\"},{\"id\":\"6bb14048-94ba-45a8-b1b2-95f82e5bc397\",\"type\":\"WheelZoomTool\"},{\"id\":\"5a9c8e10-0ee9-4578-bf89-c9179858ba83\",\"type\":\"BoxZoomTool\"},{\"id\":\"22aa359a-1e9f-4208-a235-e76379fa18fa\",\"type\":\"SaveTool\"},{\"id\":\"cbbb469c-b5db-46d3-8fa3-7893f3266fd2\",\"type\":\"ResetTool\"},{\"id\":\"499b04d0-be01-4b01-84a5-16b7f43f3d81\",\"type\":\"HelpTool\"}]},\"id\":\"57c30655-214d-4b6b-b03f-b35f1b8c4b43\",\"type\":\"Toolbar\"},{\"attributes\":{\"callback\":null,\"column_names\":[\"y\",\"right\"],\"data\":{\"right\":[1,1,4,10,3,15,8,8,9,5,5,2,4,3,4,7,4,2,2,1,1,2,2,2,2,2,1,1,1],\"y\":[\"Mystery\",\" Police\",\" Psychological\",\" Supernatural\",\" Thriller\",\"Action\",\" Drama\",\" Fantasy\",\" Shounen\",\" Super Power\",\" Adventure\",\" Game\",\" Romance\",\" Magic\",\" Military\",\" Comedy\",\" School\",\" Mecha\",\" Sci-Fi\",\" Martial Arts\",\"Sci-Fi\",\" Mystery\",\"Comedy\",\" Slice of Life\",\" Horror\",\" Seinen\",\"Adventure\",\" Ecchi\",\" Demons\"]},\"selected\":null,\"selection_policy\":null},\"id\":\"1569ab1f-0baf-4d4e-8a0b-9f7e5888dd20\",\"type\":\"ColumnDataSource\"},{\"attributes\":{},\"id\":\"4d55b7d8-1fed-4933-978b-98e597b92a20\",\"type\":\"CategoricalTicker\"},{\"attributes\":{},\"id\":\"d9440890-d710-497b-a2cd-f0740d341773\",\"type\":\"CategoricalTickFormatter\"},{\"attributes\":{},\"id\":\"6bb14048-94ba-45a8-b1b2-95f82e5bc397\",\"type\":\"WheelZoomTool\"},{\"attributes\":{},\"id\":\"d6a166d7-9992-4bae-a66b-3228091e0fca\",\"type\":\"CategoricalTicker\"},{\"attributes\":{\"fill_alpha\":{\"value\":0.1},\"fill_color\":{\"value\":\"#1f77b4\"},\"height\":{\"value\":0.4},\"line_alpha\":{\"value\":0.1},\"line_color\":{\"value\":\"#1f77b4\"},\"right\":{\"field\":\"right\"},\"y\":{\"field\":\"y\"}},\"id\":\"527f418c-b287-437a-921d-1df4bfe4dea3\",\"type\":\"HBar\"},{\"attributes\":{\"fill_color\":{\"value\":\"#1f77b4\"},\"height\":{\"value\":0.4},\"line_color\":{\"value\":\"#1f77b4\"},\"right\":{\"field\":\"right\"},\"y\":{\"field\":\"y\"}},\"id\":\"53e19baa-93b8-4ac3-8c0c-8cd2dd390241\",\"type\":\"HBar\"},{\"attributes\":{\"callback\":null},\"id\":\"a28dacba-92b5-4250-9897-5229a535792d\",\"type\":\"DataRange1d\"},{\"attributes\":{\"overlay\":{\"id\":\"c7ca59c1-9e9f-415b-9dec-a9d972e24d86\",\"type\":\"BoxAnnotation\"}},\"id\":\"5a9c8e10-0ee9-4578-bf89-c9179858ba83\",\"type\":\"BoxZoomTool\"},{\"attributes\":{\"dimension\":1,\"plot\":{\"id\":\"bcebc63b-9b80-495b-be54-40c5976bcf3a\",\"subtype\":\"Figure\",\"type\":\"Plot\"},\"ticker\":{\"id\":\"d6a166d7-9992-4bae-a66b-3228091e0fca\",\"type\":\"CategoricalTicker\"}},\"id\":\"fa272c69-e113-455e-9f76-0b43166df303\",\"type\":\"Grid\"},{\"attributes\":{\"axis_label\":\"Genres\",\"formatter\":{\"id\":\"d9440890-d710-497b-a2cd-f0740d341773\",\"type\":\"CategoricalTickFormatter\"},\"plot\":{\"id\":\"bcebc63b-9b80-495b-be54-40c5976bcf3a\",\"subtype\":\"Figure\",\"type\":\"Plot\"},\"ticker\":{\"id\":\"d6a166d7-9992-4bae-a66b-3228091e0fca\",\"type\":\"CategoricalTicker\"}},\"id\":\"5b737436-66ce-4304-8e42-9370ef5a072b\",\"type\":\"CategoricalAxis\"},{\"attributes\":{},\"id\":\"c045a7d4-75d9-41da-a1f4-ae900f5928a5\",\"type\":\"HelpTool\"},{\"attributes\":{\"data_source\":{\"id\":\"1569ab1f-0baf-4d4e-8a0b-9f7e5888dd20\",\"type\":\"ColumnDataSource\"},\"glyph\":{\"id\":\"e90b5463-003a-4f4d-bf98-de926e668cf6\",\"type\":\"HBar\"},\"hover_glyph\":null,\"muted_glyph\":null,\"nonselection_glyph\":{\"id\":\"527f418c-b287-437a-921d-1df4bfe4dea3\",\"type\":\"HBar\"},\"selection_glyph\":null,\"view\":{\"id\":\"93cb7188-5a5a-4386-989b-1e75952944ec\",\"type\":\"CDSView\"}},\"id\":\"0fb1d5b9-6727-4532-853a-3c23d74e369a\",\"type\":\"GlyphRenderer\"},{\"attributes\":{},\"id\":\"faafac73-97d0-41e3-8416-4bed3b8fe30e\",\"type\":\"BasicTickFormatter\"},{\"attributes\":{\"below\":[{\"id\":\"85f740af-3b64-4ef3-b129-758003c69e2f\",\"type\":\"LinearAxis\"}],\"left\":[{\"id\":\"f7a8b78f-d8e5-4c20-a364-b718c74b148f\",\"type\":\"CategoricalAxis\"}],\"plot_height\":400,\"plot_width\":400,\"renderers\":[{\"id\":\"85f740af-3b64-4ef3-b129-758003c69e2f\",\"type\":\"LinearAxis\"},{\"id\":\"29ac5964-e99d-4cbf-9b9a-88e58b9340d2\",\"type\":\"Grid\"},{\"id\":\"f7a8b78f-d8e5-4c20-a364-b718c74b148f\",\"type\":\"CategoricalAxis\"},{\"id\":\"0534f1ab-02de-4670-9580-9bf82dccbdd2\",\"type\":\"Grid\"},{\"id\":\"c7ca59c1-9e9f-415b-9dec-a9d972e24d86\",\"type\":\"BoxAnnotation\"},{\"id\":\"7096bf0d-dbae-41cd-bb65-a35da6138b13\",\"type\":\"GlyphRenderer\"}],\"title\":{\"id\":\"1fc622e2-f25f-46fd-86fe-a5782a72d36e\",\"type\":\"Title\"},\"toolbar\":{\"id\":\"57c30655-214d-4b6b-b03f-b35f1b8c4b43\",\"type\":\"Toolbar\"},\"x_range\":{\"id\":\"ce88978e-f675-4d9f-90d7-1a6fa6360269\",\"type\":\"DataRange1d\"},\"x_scale\":{\"id\":\"30cae6d9-b988-407d-9d02-635aff8c1046\",\"type\":\"LinearScale\"},\"y_range\":{\"id\":\"934ad171-fceb-4552-94e6-7a8ec746e19c\",\"type\":\"FactorRange\"},\"y_scale\":{\"id\":\"edf4509e-14ab-4fe8-9dec-8b9686f36eae\",\"type\":\"CategoricalScale\"}},\"id\":\"f1dd2df4-a181-4d89-9b3a-f48867966b65\",\"subtype\":\"Figure\",\"type\":\"Plot\"},{\"attributes\":{\"axis_label\":\"Genres\",\"formatter\":{\"id\":\"21f77bd8-f71e-4f2e-87fb-64b2c0ac3efb\",\"type\":\"CategoricalTickFormatter\"},\"plot\":{\"id\":\"f1dd2df4-a181-4d89-9b3a-f48867966b65\",\"subtype\":\"Figure\",\"type\":\"Plot\"},\"ticker\":{\"id\":\"4d55b7d8-1fed-4933-978b-98e597b92a20\",\"type\":\"CategoricalTicker\"}},\"id\":\"f7a8b78f-d8e5-4c20-a364-b718c74b148f\",\"type\":\"CategoricalAxis\"},{\"attributes\":{},\"id\":\"930afdc0-8746-4711-b3e5-3e9e7e4490f3\",\"type\":\"BasicTicker\"},{\"attributes\":{},\"id\":\"49fb1f6e-6378-4982-807b-5352f62033f4\",\"type\":\"PanTool\"},{\"attributes\":{},\"id\":\"422bee22-c7bb-431f-8cfb-f052c8db8600\",\"type\":\"BasicTickFormatter\"},{\"attributes\":{\"callback\":null,\"column_names\":[\"y\",\"right\"],\"data\":{\"right\":[2,6,1,3,1,6,2,3,2,1,7,2,2,2,1,2,9,5,5,5,6,1,1,1,1,1,1,1],\"y\":[\"Comedy\",\" Parody\",\"Adventure\",\" Kids\",\"Slice of Life\",\"Drama\",\" Romance\",\" School\",\" Supernatural\",\"Historical\",\"Action\",\" Adventure\",\" Drama\",\" Fantasy\",\" Magic\",\" Military\",\" Shounen\",\" Comedy\",\" Historical\",\" Samurai\",\" Sci-Fi\",\"Sci-Fi\",\" Thriller\",\" Sports\",\" Super Power\",\" Space\",\" Slice of Life\",\"Fantasy\"]},\"selected\":null,\"selection_policy\":null},\"id\":\"c9ae9719-6770-47fd-acfe-fa97a371f5f9\",\"type\":\"ColumnDataSource\"},{\"attributes\":{\"active_drag\":\"auto\",\"active_inspect\":\"auto\",\"active_scroll\":\"auto\",\"active_tap\":\"auto\",\"tools\":[{\"id\":\"803aaab2-f605-4b75-8b0d-27812d62d97f\",\"type\":\"PanTool\"},{\"id\":\"0590326c-1cdb-4280-acd9-c15eed7e2146\",\"type\":\"WheelZoomTool\"},{\"id\":\"890c0ea7-7a65-4f3c-bd5c-9657baac1d56\",\"type\":\"BoxZoomTool\"},{\"id\":\"8c857afe-67dc-4813-932a-9457536b712a\",\"type\":\"SaveTool\"},{\"id\":\"23f681c5-5be6-4ba4-9c9d-3621096afcb9\",\"type\":\"ResetTool\"},{\"id\":\"c045a7d4-75d9-41da-a1f4-ae900f5928a5\",\"type\":\"HelpTool\"}]},\"id\":\"469f81b2-d16b-4366-9e06-6e2a142b23ae\",\"type\":\"Toolbar\"},{\"attributes\":{},\"id\":\"23f681c5-5be6-4ba4-9c9d-3621096afcb9\",\"type\":\"ResetTool\"},{\"attributes\":{\"fill_color\":{\"value\":\"#1f77b4\"},\"height\":{\"value\":0.4},\"line_color\":{\"value\":\"#1f77b4\"},\"right\":{\"field\":\"right\"},\"y\":{\"field\":\"y\"}},\"id\":\"e90b5463-003a-4f4d-bf98-de926e668cf6\",\"type\":\"HBar\"},{\"attributes\":{},\"id\":\"21f77bd8-f71e-4f2e-87fb-64b2c0ac3efb\",\"type\":\"CategoricalTickFormatter\"},{\"attributes\":{\"children\":[{\"id\":\"bcebc63b-9b80-495b-be54-40c5976bcf3a\",\"subtype\":\"Figure\",\"type\":\"Plot\"},{\"id\":\"f1dd2df4-a181-4d89-9b3a-f48867966b65\",\"subtype\":\"Figure\",\"type\":\"Plot\"}]},\"id\":\"188520d6-34d0-4b16-bd9a-fac419e30766\",\"type\":\"Column\"},{\"attributes\":{},\"id\":\"803aaab2-f605-4b75-8b0d-27812d62d97f\",\"type\":\"PanTool\"},{\"attributes\":{\"below\":[{\"id\":\"e18328fd-e8c8-4849-9f45-a1026445365e\",\"type\":\"LinearAxis\"}],\"left\":[{\"id\":\"5b737436-66ce-4304-8e42-9370ef5a072b\",\"type\":\"CategoricalAxis\"}],\"plot_height\":400,\"plot_width\":400,\"renderers\":[{\"id\":\"e18328fd-e8c8-4849-9f45-a1026445365e\",\"type\":\"LinearAxis\"},{\"id\":\"8aaa0589-df5f-452f-8809-fafb34f4d6a2\",\"type\":\"Grid\"},{\"id\":\"5b737436-66ce-4304-8e42-9370ef5a072b\",\"type\":\"CategoricalAxis\"},{\"id\":\"fa272c69-e113-455e-9f76-0b43166df303\",\"type\":\"Grid\"},{\"id\":\"ed90e2c4-723d-46af-9f61-a72934687fd4\",\"type\":\"BoxAnnotation\"},{\"id\":\"0fb1d5b9-6727-4532-853a-3c23d74e369a\",\"type\":\"GlyphRenderer\"}],\"title\":{\"id\":\"80891dd6-54f4-4572-a969-b21323a64da9\",\"type\":\"Title\"},\"toolbar\":{\"id\":\"469f81b2-d16b-4366-9e06-6e2a142b23ae\",\"type\":\"Toolbar\"},\"x_range\":{\"id\":\"a28dacba-92b5-4250-9897-5229a535792d\",\"type\":\"DataRange1d\"},\"x_scale\":{\"id\":\"14a9d66d-82a2-4aa7-a9e7-aedcf2f2e0ed\",\"type\":\"LinearScale\"},\"y_range\":{\"id\":\"f1f4d5de-b100-4cdf-96fa-08a7642d24ec\",\"type\":\"FactorRange\"},\"y_scale\":{\"id\":\"9adb5804-c3ae-4b7e-bee1-f117d4b264aa\",\"type\":\"CategoricalScale\"}},\"id\":\"bcebc63b-9b80-495b-be54-40c5976bcf3a\",\"subtype\":\"Figure\",\"type\":\"Plot\"},{\"attributes\":{},\"id\":\"30cae6d9-b988-407d-9d02-635aff8c1046\",\"type\":\"LinearScale\"},{\"attributes\":{},\"id\":\"cbbb469c-b5db-46d3-8fa3-7893f3266fd2\",\"type\":\"ResetTool\"},{\"attributes\":{},\"id\":\"14a9d66d-82a2-4aa7-a9e7-aedcf2f2e0ed\",\"type\":\"LinearScale\"},{\"attributes\":{\"bottom_units\":\"screen\",\"fill_alpha\":{\"value\":0.5},\"fill_color\":{\"value\":\"lightgrey\"},\"left_units\":\"screen\",\"level\":\"overlay\",\"line_alpha\":{\"value\":1.0},\"line_color\":{\"value\":\"black\"},\"line_dash\":[4,4],\"line_width\":{\"value\":2},\"plot\":null,\"render_mode\":\"css\",\"right_units\":\"screen\",\"top_units\":\"screen\"},\"id\":\"c7ca59c1-9e9f-415b-9dec-a9d972e24d86\",\"type\":\"BoxAnnotation\"},{\"attributes\":{\"axis_label\":\"Count\",\"formatter\":{\"id\":\"faafac73-97d0-41e3-8416-4bed3b8fe30e\",\"type\":\"BasicTickFormatter\"},\"plot\":{\"id\":\"bcebc63b-9b80-495b-be54-40c5976bcf3a\",\"subtype\":\"Figure\",\"type\":\"Plot\"},\"ticker\":{\"id\":\"930afdc0-8746-4711-b3e5-3e9e7e4490f3\",\"type\":\"BasicTicker\"}},\"id\":\"e18328fd-e8c8-4849-9f45-a1026445365e\",\"type\":\"LinearAxis\"},{\"attributes\":{\"plot\":null,\"text\":\"Top 20 Most Popular Contents' Genres\"},\"id\":\"80891dd6-54f4-4572-a969-b21323a64da9\",\"type\":\"Title\"},{\"attributes\":{},\"id\":\"9adb5804-c3ae-4b7e-bee1-f117d4b264aa\",\"type\":\"CategoricalScale\"},{\"attributes\":{\"plot\":{\"id\":\"bcebc63b-9b80-495b-be54-40c5976bcf3a\",\"subtype\":\"Figure\",\"type\":\"Plot\"},\"ticker\":{\"id\":\"930afdc0-8746-4711-b3e5-3e9e7e4490f3\",\"type\":\"BasicTicker\"}},\"id\":\"8aaa0589-df5f-452f-8809-fafb34f4d6a2\",\"type\":\"Grid\"},{\"attributes\":{\"callback\":null,\"factors\":[\"Mystery\",\" Police\",\" Psychological\",\" Supernatural\",\" Thriller\",\"Action\",\" Drama\",\" Fantasy\",\" Shounen\",\" Super Power\",\" Adventure\",\" Game\",\" Romance\",\" Magic\",\" Military\",\" Comedy\",\" School\",\" Mecha\",\" Sci-Fi\",\" Martial Arts\",\"Sci-Fi\",\" Mystery\",\"Comedy\",\" Slice of Life\",\" Horror\",\" Seinen\",\"Adventure\",\" Ecchi\",\" Demons\"]},\"id\":\"f1f4d5de-b100-4cdf-96fa-08a7642d24ec\",\"type\":\"FactorRange\"},{\"attributes\":{\"dimension\":1,\"plot\":{\"id\":\"f1dd2df4-a181-4d89-9b3a-f48867966b65\",\"subtype\":\"Figure\",\"type\":\"Plot\"},\"ticker\":{\"id\":\"4d55b7d8-1fed-4933-978b-98e597b92a20\",\"type\":\"CategoricalTicker\"}},\"id\":\"0534f1ab-02de-4670-9580-9bf82dccbdd2\",\"type\":\"Grid\"},{\"attributes\":{\"bottom_units\":\"screen\",\"fill_alpha\":{\"value\":0.5},\"fill_color\":{\"value\":\"lightgrey\"},\"left_units\":\"screen\",\"level\":\"overlay\",\"line_alpha\":{\"value\":1.0},\"line_color\":{\"value\":\"black\"},\"line_dash\":[4,4],\"line_width\":{\"value\":2},\"plot\":null,\"render_mode\":\"css\",\"right_units\":\"screen\",\"top_units\":\"screen\"},\"id\":\"ed90e2c4-723d-46af-9f61-a72934687fd4\",\"type\":\"BoxAnnotation\"},{\"attributes\":{\"plot\":{\"id\":\"f1dd2df4-a181-4d89-9b3a-f48867966b65\",\"subtype\":\"Figure\",\"type\":\"Plot\"},\"ticker\":{\"id\":\"6656d611-ebfc-42b1-9837-fe0ff5493ebb\",\"type\":\"BasicTicker\"}},\"id\":\"29ac5964-e99d-4cbf-9b9a-88e58b9340d2\",\"type\":\"Grid\"},{\"attributes\":{\"source\":{\"id\":\"c9ae9719-6770-47fd-acfe-fa97a371f5f9\",\"type\":\"ColumnDataSource\"}},\"id\":\"135d60dc-d770-4310-925d-8f0a4807d044\",\"type\":\"CDSView\"},{\"attributes\":{\"callback\":null,\"factors\":[\"Comedy\",\" Parody\",\"Adventure\",\" Kids\",\"Slice of Life\",\"Drama\",\" Romance\",\" School\",\" Supernatural\",\"Historical\",\"Action\",\" Adventure\",\" Drama\",\" Fantasy\",\" Magic\",\" Military\",\" Shounen\",\" Comedy\",\" Historical\",\" Samurai\",\" Sci-Fi\",\"Sci-Fi\",\" Thriller\",\" Sports\",\" Super Power\",\" Space\",\" Slice of Life\",\"Fantasy\"]},\"id\":\"934ad171-fceb-4552-94e6-7a8ec746e19c\",\"type\":\"FactorRange\"},{\"attributes\":{\"plot\":null,\"text\":\"Top 20 Highest Rated Contents' Genres\"},\"id\":\"1fc622e2-f25f-46fd-86fe-a5782a72d36e\",\"type\":\"Title\"},{\"attributes\":{\"axis_label\":\"Count\",\"formatter\":{\"id\":\"422bee22-c7bb-431f-8cfb-f052c8db8600\",\"type\":\"BasicTickFormatter\"},\"plot\":{\"id\":\"f1dd2df4-a181-4d89-9b3a-f48867966b65\",\"subtype\":\"Figure\",\"type\":\"Plot\"},\"ticker\":{\"id\":\"6656d611-ebfc-42b1-9837-fe0ff5493ebb\",\"type\":\"BasicTicker\"}},\"id\":\"85f740af-3b64-4ef3-b129-758003c69e2f\",\"type\":\"LinearAxis\"},{\"attributes\":{},\"id\":\"6656d611-ebfc-42b1-9837-fe0ff5493ebb\",\"type\":\"BasicTicker\"},{\"attributes\":{},\"id\":\"8c857afe-67dc-4813-932a-9457536b712a\",\"type\":\"SaveTool\"},{\"attributes\":{},\"id\":\"edf4509e-14ab-4fe8-9dec-8b9686f36eae\",\"type\":\"CategoricalScale\"}],\"root_ids\":[\"188520d6-34d0-4b16-bd9a-fac419e30766\"]},\"title\":\"Bokeh Application\",\"version\":\"0.12.15\"}};\n",
       "  var render_items = [{\"docid\":\"a8dcf713-26fa-4ee6-8dbd-30965e4f15a5\",\"elementid\":\"862e7b7b-0dd8-4e9c-b1de-6df4e94d8e26\",\"modelid\":\"188520d6-34d0-4b16-bd9a-fac419e30766\"}];\n",
       "  root.Bokeh.embed.embed_items_notebook(docs_json, render_items);\n",
       "\n",
       "  }\n",
       "  if (root.Bokeh !== undefined) {\n",
       "    embed_document(root);\n",
       "  } else {\n",
       "    var attempts = 0;\n",
       "    var timer = setInterval(function(root) {\n",
       "      if (root.Bokeh !== undefined) {\n",
       "        embed_document(root);\n",
       "        clearInterval(timer);\n",
       "      }\n",
       "      attempts++;\n",
       "      if (attempts > 100) {\n",
       "        console.log(\"Bokeh: ERROR: Unable to run BokehJS code because BokehJS library is missing\")\n",
       "        clearInterval(timer);\n",
       "      }\n",
       "    }, 10, root)\n",
       "  }\n",
       "})(window);"
      ],
      "application/vnd.bokehjs_exec.v0+json": ""
     },
     "metadata": {
      "application/vnd.bokehjs_exec.v0+json": {
       "id": "188520d6-34d0-4b16-bd9a-fac419e30766"
      }
     },
     "output_type": "display_data"
    }
   ],
   "source": [
    "#top 20 most popular content genres\n",
    "from collections import Counter\n",
    "#getting every single genre of a content\n",
    "genre_count = []\n",
    "for idx, series in df_temp.iloc[0:20].iterrows():\n",
    "    for genre in series['genre'].split(','):\n",
    "        genre_count.append(genre)\n",
    "\n",
    "#counting the genres in the top 20        \n",
    "genre_dict = Counter(genre_count)\n",
    "g, c = zip(*genre_dict.items())\n",
    "\n",
    "f = figure(y_range = g, title = \"Top 20 Most Popular Contents' Genres\", plot_height = 400, plot_width = 400, x_axis_label = 'Count', y_axis_label = 'Genres')\n",
    "f.hbar(y = g, right = c, left = 0, height = 0.4)\n",
    "\n",
    "#top 20 highest rated shows genre\n",
    "\n",
    "g_count = []\n",
    "for idx, series in df_temp1.iloc[0:20].iterrows():\n",
    "    for gen in series['genre'].split(','):\n",
    "        g_count.append(gen)\n",
    "\n",
    "g_count = Counter(g_count)\n",
    "g,c = zip(*g_count.items())\n",
    "\n",
    "f1 = figure(y_range = g, title = \"Top 20 Highest Rated Contents' Genres\", plot_height = 400, plot_width = 400, x_axis_label = 'Count', y_axis_label = 'Genres')\n",
    "f1.hbar(y = g, right = c, left = 0, height = .4)\n",
    "layout = column(f, f1)\n",
    "show(layout)"
   ]
  },
  {
   "cell_type": "markdown",
   "metadata": {},
   "source": []
  },
  {
   "cell_type": "markdown",
   "metadata": {},
   "source": [
    "### Explicit Collaborative Filtering Recommender System"
   ]
  },
  {
   "cell_type": "code",
   "execution_count": 15,
   "metadata": {},
   "outputs": [
    {
     "data": {
      "text/html": [
       "<div>\n",
       "<style>\n",
       "    .dataframe thead tr:only-child th {\n",
       "        text-align: right;\n",
       "    }\n",
       "\n",
       "    .dataframe thead th {\n",
       "        text-align: left;\n",
       "    }\n",
       "\n",
       "    .dataframe tbody tr th {\n",
       "        vertical-align: top;\n",
       "    }\n",
       "</style>\n",
       "<table border=\"1\" class=\"dataframe\">\n",
       "  <thead>\n",
       "    <tr style=\"text-align: right;\">\n",
       "      <th></th>\n",
       "      <th>anime_id</th>\n",
       "      <th>name</th>\n",
       "      <th>genre</th>\n",
       "      <th>type</th>\n",
       "      <th>episodes</th>\n",
       "      <th>rating</th>\n",
       "      <th>members</th>\n",
       "    </tr>\n",
       "  </thead>\n",
       "  <tbody>\n",
       "    <tr>\n",
       "      <th>0</th>\n",
       "      <td>32281</td>\n",
       "      <td>Kimi no Na wa.</td>\n",
       "      <td>Drama, Romance, School, Supernatural</td>\n",
       "      <td>Movie</td>\n",
       "      <td>1</td>\n",
       "      <td>9.37</td>\n",
       "      <td>200630</td>\n",
       "    </tr>\n",
       "    <tr>\n",
       "      <th>1</th>\n",
       "      <td>5114</td>\n",
       "      <td>Fullmetal Alchemist: Brotherhood</td>\n",
       "      <td>Action, Adventure, Drama, Fantasy, Magic, Mili...</td>\n",
       "      <td>TV</td>\n",
       "      <td>64</td>\n",
       "      <td>9.26</td>\n",
       "      <td>793665</td>\n",
       "    </tr>\n",
       "    <tr>\n",
       "      <th>2</th>\n",
       "      <td>28977</td>\n",
       "      <td>Gintama°</td>\n",
       "      <td>Action, Comedy, Historical, Parody, Samurai, S...</td>\n",
       "      <td>TV</td>\n",
       "      <td>51</td>\n",
       "      <td>9.25</td>\n",
       "      <td>114262</td>\n",
       "    </tr>\n",
       "    <tr>\n",
       "      <th>3</th>\n",
       "      <td>9253</td>\n",
       "      <td>Steins;Gate</td>\n",
       "      <td>Sci-Fi, Thriller</td>\n",
       "      <td>TV</td>\n",
       "      <td>24</td>\n",
       "      <td>9.17</td>\n",
       "      <td>673572</td>\n",
       "    </tr>\n",
       "    <tr>\n",
       "      <th>4</th>\n",
       "      <td>9969</td>\n",
       "      <td>Gintama&amp;#039;</td>\n",
       "      <td>Action, Comedy, Historical, Parody, Samurai, S...</td>\n",
       "      <td>TV</td>\n",
       "      <td>51</td>\n",
       "      <td>9.16</td>\n",
       "      <td>151266</td>\n",
       "    </tr>\n",
       "  </tbody>\n",
       "</table>\n",
       "</div>"
      ],
      "text/plain": [
       "   anime_id                              name  \\\n",
       "0     32281                    Kimi no Na wa.   \n",
       "1      5114  Fullmetal Alchemist: Brotherhood   \n",
       "2     28977                          Gintama°   \n",
       "3      9253                       Steins;Gate   \n",
       "4      9969                     Gintama&#039;   \n",
       "\n",
       "                                               genre   type episodes  rating  \\\n",
       "0               Drama, Romance, School, Supernatural  Movie        1    9.37   \n",
       "1  Action, Adventure, Drama, Fantasy, Magic, Mili...     TV       64    9.26   \n",
       "2  Action, Comedy, Historical, Parody, Samurai, S...     TV       51    9.25   \n",
       "3                                   Sci-Fi, Thriller     TV       24    9.17   \n",
       "4  Action, Comedy, Historical, Parody, Samurai, S...     TV       51    9.16   \n",
       "\n",
       "   members  \n",
       "0   200630  \n",
       "1   793665  \n",
       "2   114262  \n",
       "3   673572  \n",
       "4   151266  "
      ]
     },
     "execution_count": 15,
     "metadata": {},
     "output_type": "execute_result"
    }
   ],
   "source": [
    "df_a.head()"
   ]
  },
  {
   "cell_type": "code",
   "execution_count": 16,
   "metadata": {},
   "outputs": [
    {
     "data": {
      "text/html": [
       "<div>\n",
       "<style>\n",
       "    .dataframe thead tr:only-child th {\n",
       "        text-align: right;\n",
       "    }\n",
       "\n",
       "    .dataframe thead th {\n",
       "        text-align: left;\n",
       "    }\n",
       "\n",
       "    .dataframe tbody tr th {\n",
       "        vertical-align: top;\n",
       "    }\n",
       "</style>\n",
       "<table border=\"1\" class=\"dataframe\">\n",
       "  <thead>\n",
       "    <tr style=\"text-align: right;\">\n",
       "      <th></th>\n",
       "      <th>user_id</th>\n",
       "      <th>anime_id</th>\n",
       "      <th>rating</th>\n",
       "    </tr>\n",
       "  </thead>\n",
       "  <tbody>\n",
       "    <tr>\n",
       "      <th>0</th>\n",
       "      <td>1</td>\n",
       "      <td>20</td>\n",
       "      <td>-1</td>\n",
       "    </tr>\n",
       "    <tr>\n",
       "      <th>1</th>\n",
       "      <td>1</td>\n",
       "      <td>24</td>\n",
       "      <td>-1</td>\n",
       "    </tr>\n",
       "    <tr>\n",
       "      <th>2</th>\n",
       "      <td>1</td>\n",
       "      <td>79</td>\n",
       "      <td>-1</td>\n",
       "    </tr>\n",
       "    <tr>\n",
       "      <th>3</th>\n",
       "      <td>1</td>\n",
       "      <td>226</td>\n",
       "      <td>-1</td>\n",
       "    </tr>\n",
       "    <tr>\n",
       "      <th>4</th>\n",
       "      <td>1</td>\n",
       "      <td>241</td>\n",
       "      <td>-1</td>\n",
       "    </tr>\n",
       "  </tbody>\n",
       "</table>\n",
       "</div>"
      ],
      "text/plain": [
       "   user_id  anime_id  rating\n",
       "0        1        20      -1\n",
       "1        1        24      -1\n",
       "2        1        79      -1\n",
       "3        1       226      -1\n",
       "4        1       241      -1"
      ]
     },
     "execution_count": 16,
     "metadata": {},
     "output_type": "execute_result"
    }
   ],
   "source": [
    "df_r.head()"
   ]
  },
  {
   "cell_type": "code",
   "execution_count": 32,
   "metadata": {},
   "outputs": [
    {
     "data": {
      "text/html": [
       "<div>\n",
       "<style>\n",
       "    .dataframe thead tr:only-child th {\n",
       "        text-align: right;\n",
       "    }\n",
       "\n",
       "    .dataframe thead th {\n",
       "        text-align: left;\n",
       "    }\n",
       "\n",
       "    .dataframe tbody tr th {\n",
       "        vertical-align: top;\n",
       "    }\n",
       "</style>\n",
       "<table border=\"1\" class=\"dataframe\">\n",
       "  <thead>\n",
       "    <tr style=\"text-align: right;\">\n",
       "      <th></th>\n",
       "      <th>anime_id</th>\n",
       "      <th>name</th>\n",
       "      <th>genre</th>\n",
       "      <th>type</th>\n",
       "      <th>episodes</th>\n",
       "      <th>rating_avg</th>\n",
       "      <th>members</th>\n",
       "      <th>user_id</th>\n",
       "      <th>rating</th>\n",
       "    </tr>\n",
       "  </thead>\n",
       "  <tbody>\n",
       "    <tr>\n",
       "      <th>0</th>\n",
       "      <td>32281</td>\n",
       "      <td>Kimi no Na wa.</td>\n",
       "      <td>Drama, Romance, School, Supernatural</td>\n",
       "      <td>Movie</td>\n",
       "      <td>1</td>\n",
       "      <td>9.37</td>\n",
       "      <td>200630</td>\n",
       "      <td>99</td>\n",
       "      <td>5</td>\n",
       "    </tr>\n",
       "    <tr>\n",
       "      <th>1</th>\n",
       "      <td>32281</td>\n",
       "      <td>Kimi no Na wa.</td>\n",
       "      <td>Drama, Romance, School, Supernatural</td>\n",
       "      <td>Movie</td>\n",
       "      <td>1</td>\n",
       "      <td>9.37</td>\n",
       "      <td>200630</td>\n",
       "      <td>152</td>\n",
       "      <td>10</td>\n",
       "    </tr>\n",
       "    <tr>\n",
       "      <th>2</th>\n",
       "      <td>32281</td>\n",
       "      <td>Kimi no Na wa.</td>\n",
       "      <td>Drama, Romance, School, Supernatural</td>\n",
       "      <td>Movie</td>\n",
       "      <td>1</td>\n",
       "      <td>9.37</td>\n",
       "      <td>200630</td>\n",
       "      <td>244</td>\n",
       "      <td>10</td>\n",
       "    </tr>\n",
       "    <tr>\n",
       "      <th>3</th>\n",
       "      <td>32281</td>\n",
       "      <td>Kimi no Na wa.</td>\n",
       "      <td>Drama, Romance, School, Supernatural</td>\n",
       "      <td>Movie</td>\n",
       "      <td>1</td>\n",
       "      <td>9.37</td>\n",
       "      <td>200630</td>\n",
       "      <td>271</td>\n",
       "      <td>10</td>\n",
       "    </tr>\n",
       "    <tr>\n",
       "      <th>4</th>\n",
       "      <td>32281</td>\n",
       "      <td>Kimi no Na wa.</td>\n",
       "      <td>Drama, Romance, School, Supernatural</td>\n",
       "      <td>Movie</td>\n",
       "      <td>1</td>\n",
       "      <td>9.37</td>\n",
       "      <td>200630</td>\n",
       "      <td>278</td>\n",
       "      <td>-1</td>\n",
       "    </tr>\n",
       "  </tbody>\n",
       "</table>\n",
       "</div>"
      ],
      "text/plain": [
       "   anime_id            name                                 genre   type  \\\n",
       "0     32281  Kimi no Na wa.  Drama, Romance, School, Supernatural  Movie   \n",
       "1     32281  Kimi no Na wa.  Drama, Romance, School, Supernatural  Movie   \n",
       "2     32281  Kimi no Na wa.  Drama, Romance, School, Supernatural  Movie   \n",
       "3     32281  Kimi no Na wa.  Drama, Romance, School, Supernatural  Movie   \n",
       "4     32281  Kimi no Na wa.  Drama, Romance, School, Supernatural  Movie   \n",
       "\n",
       "  episodes  rating_avg  members  user_id  rating  \n",
       "0        1        9.37   200630       99       5  \n",
       "1        1        9.37   200630      152      10  \n",
       "2        1        9.37   200630      244      10  \n",
       "3        1        9.37   200630      271      10  \n",
       "4        1        9.37   200630      278      -1  "
      ]
     },
     "execution_count": 32,
     "metadata": {},
     "output_type": "execute_result"
    }
   ],
   "source": [
    "#merge the two tables together\n",
    "df = df_a.merge(df_r, how = 'inner', on = 'anime_id', suffixes = ['_avg', ''])\n",
    "df.head()"
   ]
  },
  {
   "cell_type": "code",
   "execution_count": 54,
   "metadata": {
    "collapsed": true
   },
   "outputs": [],
   "source": [
    "#filter out records where no ratings were given after watching (-1)\n",
    "df = df[df.rating != -1]\n",
    "#create two new columns to be of category type so that indexes can be given to them\n",
    "df['u_code'] = df['user_id'].astype('category').cat.codes\n",
    "df['a_code'] = df['anime_id'].astype('category').cat.codes"
   ]
  },
  {
   "cell_type": "code",
   "execution_count": 55,
   "metadata": {},
   "outputs": [
    {
     "data": {
      "text/html": [
       "<div>\n",
       "<style>\n",
       "    .dataframe thead tr:only-child th {\n",
       "        text-align: right;\n",
       "    }\n",
       "\n",
       "    .dataframe thead th {\n",
       "        text-align: left;\n",
       "    }\n",
       "\n",
       "    .dataframe tbody tr th {\n",
       "        vertical-align: top;\n",
       "    }\n",
       "</style>\n",
       "<table border=\"1\" class=\"dataframe\">\n",
       "  <thead>\n",
       "    <tr style=\"text-align: right;\">\n",
       "      <th></th>\n",
       "      <th>anime_id</th>\n",
       "      <th>name</th>\n",
       "      <th>genre</th>\n",
       "      <th>type</th>\n",
       "      <th>episodes</th>\n",
       "      <th>rating_avg</th>\n",
       "      <th>members</th>\n",
       "      <th>user_id</th>\n",
       "      <th>rating</th>\n",
       "      <th>u_code</th>\n",
       "      <th>a_code</th>\n",
       "    </tr>\n",
       "  </thead>\n",
       "  <tbody>\n",
       "    <tr>\n",
       "      <th>0</th>\n",
       "      <td>32281</td>\n",
       "      <td>Kimi no Na wa.</td>\n",
       "      <td>Drama, Romance, School, Supernatural</td>\n",
       "      <td>Movie</td>\n",
       "      <td>1</td>\n",
       "      <td>9.37</td>\n",
       "      <td>200630</td>\n",
       "      <td>99</td>\n",
       "      <td>5</td>\n",
       "      <td>92</td>\n",
       "      <td>7771</td>\n",
       "    </tr>\n",
       "    <tr>\n",
       "      <th>1</th>\n",
       "      <td>32281</td>\n",
       "      <td>Kimi no Na wa.</td>\n",
       "      <td>Drama, Romance, School, Supernatural</td>\n",
       "      <td>Movie</td>\n",
       "      <td>1</td>\n",
       "      <td>9.37</td>\n",
       "      <td>200630</td>\n",
       "      <td>152</td>\n",
       "      <td>10</td>\n",
       "      <td>143</td>\n",
       "      <td>7771</td>\n",
       "    </tr>\n",
       "    <tr>\n",
       "      <th>2</th>\n",
       "      <td>32281</td>\n",
       "      <td>Kimi no Na wa.</td>\n",
       "      <td>Drama, Romance, School, Supernatural</td>\n",
       "      <td>Movie</td>\n",
       "      <td>1</td>\n",
       "      <td>9.37</td>\n",
       "      <td>200630</td>\n",
       "      <td>244</td>\n",
       "      <td>10</td>\n",
       "      <td>230</td>\n",
       "      <td>7771</td>\n",
       "    </tr>\n",
       "    <tr>\n",
       "      <th>3</th>\n",
       "      <td>32281</td>\n",
       "      <td>Kimi no Na wa.</td>\n",
       "      <td>Drama, Romance, School, Supernatural</td>\n",
       "      <td>Movie</td>\n",
       "      <td>1</td>\n",
       "      <td>9.37</td>\n",
       "      <td>200630</td>\n",
       "      <td>271</td>\n",
       "      <td>10</td>\n",
       "      <td>256</td>\n",
       "      <td>7771</td>\n",
       "    </tr>\n",
       "    <tr>\n",
       "      <th>5</th>\n",
       "      <td>32281</td>\n",
       "      <td>Kimi no Na wa.</td>\n",
       "      <td>Drama, Romance, School, Supernatural</td>\n",
       "      <td>Movie</td>\n",
       "      <td>1</td>\n",
       "      <td>9.37</td>\n",
       "      <td>200630</td>\n",
       "      <td>322</td>\n",
       "      <td>10</td>\n",
       "      <td>304</td>\n",
       "      <td>7771</td>\n",
       "    </tr>\n",
       "  </tbody>\n",
       "</table>\n",
       "</div>"
      ],
      "text/plain": [
       "   anime_id            name                                 genre   type  \\\n",
       "0     32281  Kimi no Na wa.  Drama, Romance, School, Supernatural  Movie   \n",
       "1     32281  Kimi no Na wa.  Drama, Romance, School, Supernatural  Movie   \n",
       "2     32281  Kimi no Na wa.  Drama, Romance, School, Supernatural  Movie   \n",
       "3     32281  Kimi no Na wa.  Drama, Romance, School, Supernatural  Movie   \n",
       "5     32281  Kimi no Na wa.  Drama, Romance, School, Supernatural  Movie   \n",
       "\n",
       "  episodes  rating_avg  members  user_id  rating  u_code  a_code  \n",
       "0        1        9.37   200630       99       5      92    7771  \n",
       "1        1        9.37   200630      152      10     143    7771  \n",
       "2        1        9.37   200630      244      10     230    7771  \n",
       "3        1        9.37   200630      271      10     256    7771  \n",
       "5        1        9.37   200630      322      10     304    7771  "
      ]
     },
     "execution_count": 55,
     "metadata": {},
     "output_type": "execute_result"
    }
   ],
   "source": [
    "df.head()"
   ]
  },
  {
   "cell_type": "code",
   "execution_count": 56,
   "metadata": {},
   "outputs": [
    {
     "data": {
      "text/plain": [
       "(9555, 7942)"
      ]
     },
     "execution_count": 56,
     "metadata": {},
     "output_type": "execute_result"
    }
   ],
   "source": [
    "#total of 9555 unique users and 7942 movies\n",
    "len(df.u_code.unique()), len(df.a_code.unique())"
   ]
  },
  {
   "cell_type": "code",
   "execution_count": 58,
   "metadata": {},
   "outputs": [
    {
     "data": {
      "text/html": [
       "<div>\n",
       "<style>\n",
       "    .dataframe thead tr:only-child th {\n",
       "        text-align: right;\n",
       "    }\n",
       "\n",
       "    .dataframe thead th {\n",
       "        text-align: left;\n",
       "    }\n",
       "\n",
       "    .dataframe tbody tr th {\n",
       "        vertical-align: top;\n",
       "    }\n",
       "</style>\n",
       "<table border=\"1\" class=\"dataframe\">\n",
       "  <thead>\n",
       "    <tr style=\"text-align: right;\">\n",
       "      <th></th>\n",
       "      <th>u_code</th>\n",
       "      <th>a_code</th>\n",
       "      <th>rating</th>\n",
       "    </tr>\n",
       "  </thead>\n",
       "  <tbody>\n",
       "    <tr>\n",
       "      <th>0</th>\n",
       "      <td>92</td>\n",
       "      <td>7771</td>\n",
       "      <td>5</td>\n",
       "    </tr>\n",
       "    <tr>\n",
       "      <th>1</th>\n",
       "      <td>143</td>\n",
       "      <td>7771</td>\n",
       "      <td>10</td>\n",
       "    </tr>\n",
       "    <tr>\n",
       "      <th>2</th>\n",
       "      <td>230</td>\n",
       "      <td>7771</td>\n",
       "      <td>10</td>\n",
       "    </tr>\n",
       "    <tr>\n",
       "      <th>3</th>\n",
       "      <td>256</td>\n",
       "      <td>7771</td>\n",
       "      <td>10</td>\n",
       "    </tr>\n",
       "    <tr>\n",
       "      <th>5</th>\n",
       "      <td>304</td>\n",
       "      <td>7771</td>\n",
       "      <td>10</td>\n",
       "    </tr>\n",
       "  </tbody>\n",
       "</table>\n",
       "</div>"
      ],
      "text/plain": [
       "   u_code  a_code  rating\n",
       "0      92    7771       5\n",
       "1     143    7771      10\n",
       "2     230    7771      10\n",
       "3     256    7771      10\n",
       "5     304    7771      10"
      ]
     },
     "execution_count": 58,
     "metadata": {},
     "output_type": "execute_result"
    }
   ],
   "source": [
    "#surprise API only takes the dataframe in this format\n",
    "df_rating = df[['u_code', 'a_code', 'rating']]\n",
    "df_rating.head()"
   ]
  },
  {
   "cell_type": "code",
   "execution_count": 59,
   "metadata": {
    "collapsed": true
   },
   "outputs": [],
   "source": [
    "from surprise import SVD\n",
    "from surprise import Dataset, Reader\n",
    "from surprise.model_selection import GridSearchCV\n",
    "from surprise import accuracy\n",
    "import random\n",
    "from collections import defaultdict"
   ]
  },
  {
   "cell_type": "code",
   "execution_count": 60,
   "metadata": {},
   "outputs": [
    {
     "name": "stderr",
     "output_type": "stream",
     "text": [
      "/anaconda/lib/python3.6/site-packages/scikit_surprise-1.0.6-py3.6-macosx-10.7-x86_64.egg/surprise/dataset.py:61: UserWarning: Using rating_scale from reader, deprecated. Set rating_scale at dataset creationg instead (load_from_file, load_from_folds, or load_from_df).\n",
      "  warnings.warn('Using rating_scale from reader, deprecated. Set '\n"
     ]
    }
   ],
   "source": [
    "#instantiate the reader object to parse my dataframe\n",
    "reader = Reader(rating_scale = (1, 10))\n",
    "data = Dataset.load_from_df(df_rating, reader)"
   ]
  },
  {
   "cell_type": "code",
   "execution_count": 80,
   "metadata": {},
   "outputs": [],
   "source": [
    "#Because GridSearchCV requires to be trained on (Dataset Class), train_test_split cannot be used to partition the \n",
    "#dataset because that results in a Trainset\n",
    "\n",
    "#setting data raw_ratings attribute to raw ratings\n",
    "raw_ratings = data.raw_ratings\n",
    "\n",
    "# shuffle ratings if you want\n",
    "random.shuffle(raw_ratings)\n",
    "\n",
    "# A = 80% of the data, B = 20% of the data\n",
    "threshold = int(.8 * len(raw_ratings))\n",
    "A_raw_ratings = raw_ratings[:threshold]\n",
    "B_raw_ratings = raw_ratings[threshold:]\n",
    "\n",
    "data.raw_ratings = A_raw_ratings  # data is now the set A"
   ]
  },
  {
   "cell_type": "code",
   "execution_count": 92,
   "metadata": {},
   "outputs": [
    {
     "data": {
      "text/plain": [
       "(683290, 683290)"
      ]
     },
     "execution_count": 92,
     "metadata": {},
     "output_type": "execute_result"
    }
   ],
   "source": [
    "#the split of A_raw_rating is now in data only\n",
    "len(data.raw_ratings), len(A_raw_ratings)"
   ]
  },
  {
   "cell_type": "code",
   "execution_count": 88,
   "metadata": {
    "scrolled": false
   },
   "outputs": [],
   "source": [
    "#GridSearchCV for the best parameters\n",
    "param_grid = {'n_factors': [20, 40, 60, 80, 100], 'lr_all': [.002, .005, .01], 'reg_all':[.001, .01, .1, 1, 10] }\n",
    "grid_search = GridSearchCV(SVD, param_grid = param_grid, cv = 5, measures = ['RMSE', 'MAE'])\n",
    "grid_search.fit(data)"
   ]
  },
  {
   "cell_type": "code",
   "execution_count": 116,
   "metadata": {},
   "outputs": [
    {
     "data": {
      "text/plain": [
       "({'lr_all': 0.01, 'n_factors': 100, 'reg_all': 0.1},\n",
       " {'lr_all': 0.01, 'n_factors': 100, 'reg_all': 0.1})"
      ]
     },
     "execution_count": 116,
     "metadata": {},
     "output_type": "execute_result"
    }
   ],
   "source": [
    "#these two metrics gave the same parameters\n",
    "grid_search.best_params['rmse'], grid_search.best_params['mae']"
   ]
  },
  {
   "cell_type": "code",
   "execution_count": 100,
   "metadata": {},
   "outputs": [
    {
     "name": "stdout",
     "output_type": "stream",
     "text": [
      "Biased accuracy on A,   RMSE: 0.9538\n",
      "Unbiased accuracy on B, RMSE: 1.1558\n"
     ]
    },
    {
     "data": {
      "text/plain": [
       "1.1557962102618344"
      ]
     },
     "execution_count": 100,
     "metadata": {},
     "output_type": "execute_result"
    }
   ],
   "source": [
    "# retrain on the whole set A\n",
    "trainset = data.build_full_trainset()\n",
    "alg = SVD(n_factors = 100, lr_all = .01, reg_all = .1, random_state = 42)\n",
    "alg.fit(trainset)\n",
    "\n",
    "# Compute biased accuracy on A\n",
    "predictions = alg.test(trainset.build_testset())\n",
    "print('Biased accuracy on A,', end='   ')\n",
    "accuracy.rmse(predictions)\n",
    "\n",
    "# Compute unbiased accuracy on B\n",
    "testset = data.construct_testset(B_raw_ratings)  # testset is now the set B\n",
    "predictions = alg.test(testset)\n",
    "print('Unbiased accuracy on B,', end=' ')\n",
    "accuracy.rmse(predictions)"
   ]
  },
  {
   "cell_type": "code",
   "execution_count": 117,
   "metadata": {},
   "outputs": [
    {
     "data": {
      "text/html": [
       "<div>\n",
       "<style>\n",
       "    .dataframe thead tr:only-child th {\n",
       "        text-align: right;\n",
       "    }\n",
       "\n",
       "    .dataframe thead th {\n",
       "        text-align: left;\n",
       "    }\n",
       "\n",
       "    .dataframe tbody tr th {\n",
       "        vertical-align: top;\n",
       "    }\n",
       "</style>\n",
       "<table border=\"1\" class=\"dataframe\">\n",
       "  <thead>\n",
       "    <tr style=\"text-align: right;\">\n",
       "      <th></th>\n",
       "      <th>anime_id</th>\n",
       "      <th>name</th>\n",
       "      <th>genre</th>\n",
       "      <th>type</th>\n",
       "      <th>episodes</th>\n",
       "      <th>rating_avg</th>\n",
       "      <th>members</th>\n",
       "      <th>user_id</th>\n",
       "      <th>rating</th>\n",
       "      <th>u_code</th>\n",
       "      <th>a_code</th>\n",
       "    </tr>\n",
       "  </thead>\n",
       "  <tbody>\n",
       "    <tr>\n",
       "      <th>0</th>\n",
       "      <td>32281</td>\n",
       "      <td>Kimi no Na wa.</td>\n",
       "      <td>Drama, Romance, School, Supernatural</td>\n",
       "      <td>Movie</td>\n",
       "      <td>1</td>\n",
       "      <td>9.37</td>\n",
       "      <td>200630</td>\n",
       "      <td>99</td>\n",
       "      <td>5</td>\n",
       "      <td>92</td>\n",
       "      <td>7771</td>\n",
       "    </tr>\n",
       "    <tr>\n",
       "      <th>1</th>\n",
       "      <td>32281</td>\n",
       "      <td>Kimi no Na wa.</td>\n",
       "      <td>Drama, Romance, School, Supernatural</td>\n",
       "      <td>Movie</td>\n",
       "      <td>1</td>\n",
       "      <td>9.37</td>\n",
       "      <td>200630</td>\n",
       "      <td>152</td>\n",
       "      <td>10</td>\n",
       "      <td>143</td>\n",
       "      <td>7771</td>\n",
       "    </tr>\n",
       "    <tr>\n",
       "      <th>2</th>\n",
       "      <td>32281</td>\n",
       "      <td>Kimi no Na wa.</td>\n",
       "      <td>Drama, Romance, School, Supernatural</td>\n",
       "      <td>Movie</td>\n",
       "      <td>1</td>\n",
       "      <td>9.37</td>\n",
       "      <td>200630</td>\n",
       "      <td>244</td>\n",
       "      <td>10</td>\n",
       "      <td>230</td>\n",
       "      <td>7771</td>\n",
       "    </tr>\n",
       "    <tr>\n",
       "      <th>3</th>\n",
       "      <td>32281</td>\n",
       "      <td>Kimi no Na wa.</td>\n",
       "      <td>Drama, Romance, School, Supernatural</td>\n",
       "      <td>Movie</td>\n",
       "      <td>1</td>\n",
       "      <td>9.37</td>\n",
       "      <td>200630</td>\n",
       "      <td>271</td>\n",
       "      <td>10</td>\n",
       "      <td>256</td>\n",
       "      <td>7771</td>\n",
       "    </tr>\n",
       "    <tr>\n",
       "      <th>5</th>\n",
       "      <td>32281</td>\n",
       "      <td>Kimi no Na wa.</td>\n",
       "      <td>Drama, Romance, School, Supernatural</td>\n",
       "      <td>Movie</td>\n",
       "      <td>1</td>\n",
       "      <td>9.37</td>\n",
       "      <td>200630</td>\n",
       "      <td>322</td>\n",
       "      <td>10</td>\n",
       "      <td>304</td>\n",
       "      <td>7771</td>\n",
       "    </tr>\n",
       "  </tbody>\n",
       "</table>\n",
       "</div>"
      ],
      "text/plain": [
       "   anime_id            name                                 genre   type  \\\n",
       "0     32281  Kimi no Na wa.  Drama, Romance, School, Supernatural  Movie   \n",
       "1     32281  Kimi no Na wa.  Drama, Romance, School, Supernatural  Movie   \n",
       "2     32281  Kimi no Na wa.  Drama, Romance, School, Supernatural  Movie   \n",
       "3     32281  Kimi no Na wa.  Drama, Romance, School, Supernatural  Movie   \n",
       "5     32281  Kimi no Na wa.  Drama, Romance, School, Supernatural  Movie   \n",
       "\n",
       "  episodes  rating_avg  members  user_id  rating  u_code  a_code  \n",
       "0        1        9.37   200630       99       5      92    7771  \n",
       "1        1        9.37   200630      152      10     143    7771  \n",
       "2        1        9.37   200630      244      10     230    7771  \n",
       "3        1        9.37   200630      271      10     256    7771  \n",
       "5        1        9.37   200630      322      10     304    7771  "
      ]
     },
     "execution_count": 117,
     "metadata": {},
     "output_type": "execute_result"
    }
   ],
   "source": [
    "df.head()"
   ]
  },
  {
   "cell_type": "code",
   "execution_count": 121,
   "metadata": {},
   "outputs": [
    {
     "data": {
      "text/plain": [
       "Prediction(uid=5273, iid=4738, r_ui=None, est=8.0831760369423939, details={'was_impossible': False})"
      ]
     },
     "execution_count": 121,
     "metadata": {},
     "output_type": "execute_result"
    }
   ],
   "source": [
    "#To test for a particular user and item predict(uid, iid, r_ui=None, clip=True, verbose=False)\n",
    "alg.predict(5273, 4738)"
   ]
  },
  {
   "cell_type": "code",
   "execution_count": 148,
   "metadata": {
    "collapsed": true
   },
   "outputs": [],
   "source": [
    "def get_top_n(preds, n):\n",
    "    \"\"\"get the top n predictions from the model for the user base on the estimated rating.\n",
    "    \n",
    "    Parameter:\n",
    "    \n",
    "    preds: predictions from the model\n",
    "    \n",
    "    n: the top n recommended items for a user\n",
    "    \n",
    "    \"\"\"\n",
    "    top_n = defaultdict(list)\n",
    "    for u_id, i_id, r, est, _ in preds:\n",
    "        top_n[u_id].append((i_id, est))\n",
    "    \n",
    "    for u_id, user_ratings in top_n.items():\n",
    "        user_ratings.sort(key=lambda x: x[1], reverse=True)\n",
    "        top_n[u_id] = user_ratings[:n]\n",
    "        \n",
    "    return top_n"
   ]
  },
  {
   "cell_type": "code",
   "execution_count": 222,
   "metadata": {},
   "outputs": [],
   "source": [
    "ref = get_top_n(predictions, 10)"
   ]
  },
  {
   "cell_type": "code",
   "execution_count": 223,
   "metadata": {},
   "outputs": [],
   "source": [
    "items = []\n",
    "scores = []\n",
    "for item, score in ref[92]:\n",
    "    scores.append(score)\n",
    "    items.append(item)\n",
    "    \n",
    "rec = list(zip(list(df.name[df.a_code.isin(items)].unique()), scores))"
   ]
  },
  {
   "cell_type": "code",
   "execution_count": 224,
   "metadata": {},
   "outputs": [
    {
     "data": {
      "text/plain": [
       "[('Natsume Yuujinchou Shi', 7.7287251194141771),\n",
       " ('Natsume Yuujinchou San', 7.4115586284081516),\n",
       " ('Hotaru no Haka', 7.2890937316559219),\n",
       " ('Evangelion: 2.0 You Can (Not) Advance', 7.2698394124945906),\n",
       " ('Fate/Zero', 7.1742052727613954),\n",
       " ('Samurai Champloo', 7.1310487955809778),\n",
       " ('NHK ni Youkoso!', 6.9725452856667385),\n",
       " ('Kotonoha no Niwa', 6.8160645939784494),\n",
       " ('Paprika', 6.5731970210327546),\n",
       " ('Byousoku 5 Centimeter', 6.5066392183712844)]"
      ]
     },
     "execution_count": 224,
     "metadata": {},
     "output_type": "execute_result"
    }
   ],
   "source": [
    "rec"
   ]
  },
  {
   "cell_type": "code",
   "execution_count": null,
   "metadata": {
    "collapsed": true
   },
   "outputs": [],
   "source": []
  }
 ],
 "metadata": {
  "kernelspec": {
   "display_name": "Python 3",
   "language": "python",
   "name": "python3"
  },
  "language_info": {
   "codemirror_mode": {
    "name": "ipython",
    "version": 3
   },
   "file_extension": ".py",
   "mimetype": "text/x-python",
   "name": "python",
   "nbconvert_exporter": "python",
   "pygments_lexer": "ipython3",
   "version": "3.6.1"
  }
 },
 "nbformat": 4,
 "nbformat_minor": 2
}
